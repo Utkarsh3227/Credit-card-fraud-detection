{
 "cells": [
  {
   "cell_type": "markdown",
   "metadata": {},
   "source": [
    "# **Importing the dataset**"
   ]
  },
  {
   "cell_type": "code",
   "execution_count": 1,
   "metadata": {},
   "outputs": [],
   "source": [
    "import pandas as pd\n",
    "X = pd.read_csv('training_data.csv')\n",
    "y = pd.read_csv('train_data_classlabels.csv')"
   ]
  },
  {
   "cell_type": "code",
   "execution_count": 2,
   "metadata": {},
   "outputs": [
    {
     "data": {
      "text/html": [
       "<div>\n",
       "<style scoped>\n",
       "    .dataframe tbody tr th:only-of-type {\n",
       "        vertical-align: middle;\n",
       "    }\n",
       "\n",
       "    .dataframe tbody tr th {\n",
       "        vertical-align: top;\n",
       "    }\n",
       "\n",
       "    .dataframe thead th {\n",
       "        text-align: right;\n",
       "    }\n",
       "</style>\n",
       "<table border=\"1\" class=\"dataframe\">\n",
       "  <thead>\n",
       "    <tr style=\"text-align: right;\">\n",
       "      <th></th>\n",
       "      <th>Time</th>\n",
       "      <th>V1</th>\n",
       "      <th>V2</th>\n",
       "      <th>V3</th>\n",
       "      <th>V4</th>\n",
       "      <th>V5</th>\n",
       "      <th>V6</th>\n",
       "      <th>V7</th>\n",
       "      <th>V8</th>\n",
       "      <th>V9</th>\n",
       "      <th>...</th>\n",
       "      <th>V20</th>\n",
       "      <th>V21</th>\n",
       "      <th>V22</th>\n",
       "      <th>V23</th>\n",
       "      <th>V24</th>\n",
       "      <th>V25</th>\n",
       "      <th>V26</th>\n",
       "      <th>V27</th>\n",
       "      <th>V28</th>\n",
       "      <th>Amount</th>\n",
       "    </tr>\n",
       "  </thead>\n",
       "  <tbody>\n",
       "    <tr>\n",
       "      <th>0</th>\n",
       "      <td>50920</td>\n",
       "      <td>1.086640</td>\n",
       "      <td>0.148385</td>\n",
       "      <td>0.120522</td>\n",
       "      <td>0.974415</td>\n",
       "      <td>-0.035925</td>\n",
       "      <td>-0.406007</td>\n",
       "      <td>0.270339</td>\n",
       "      <td>-0.139679</td>\n",
       "      <td>-0.411854</td>\n",
       "      <td>...</td>\n",
       "      <td>0.086793</td>\n",
       "      <td>0.112405</td>\n",
       "      <td>0.221430</td>\n",
       "      <td>-0.226960</td>\n",
       "      <td>0.046246</td>\n",
       "      <td>0.708183</td>\n",
       "      <td>-0.336475</td>\n",
       "      <td>0.002364</td>\n",
       "      <td>0.021463</td>\n",
       "      <td>76.10</td>\n",
       "    </tr>\n",
       "    <tr>\n",
       "      <th>1</th>\n",
       "      <td>34737</td>\n",
       "      <td>1.294054</td>\n",
       "      <td>0.152664</td>\n",
       "      <td>0.195524</td>\n",
       "      <td>0.540694</td>\n",
       "      <td>-0.267245</td>\n",
       "      <td>-0.691144</td>\n",
       "      <td>0.001673</td>\n",
       "      <td>-0.175527</td>\n",
       "      <td>0.179203</td>\n",
       "      <td>...</td>\n",
       "      <td>-0.087916</td>\n",
       "      <td>0.055098</td>\n",
       "      <td>0.213211</td>\n",
       "      <td>-0.163730</td>\n",
       "      <td>-0.064862</td>\n",
       "      <td>0.606466</td>\n",
       "      <td>0.504450</td>\n",
       "      <td>-0.033823</td>\n",
       "      <td>0.006327</td>\n",
       "      <td>5.95</td>\n",
       "    </tr>\n",
       "    <tr>\n",
       "      <th>2</th>\n",
       "      <td>11090</td>\n",
       "      <td>-0.352305</td>\n",
       "      <td>0.614321</td>\n",
       "      <td>2.000903</td>\n",
       "      <td>-0.403523</td>\n",
       "      <td>-0.409279</td>\n",
       "      <td>-0.395518</td>\n",
       "      <td>0.094420</td>\n",
       "      <td>0.066611</td>\n",
       "      <td>0.995869</td>\n",
       "      <td>...</td>\n",
       "      <td>-0.059598</td>\n",
       "      <td>0.055236</td>\n",
       "      <td>0.312846</td>\n",
       "      <td>-0.146312</td>\n",
       "      <td>0.317882</td>\n",
       "      <td>-0.307554</td>\n",
       "      <td>0.975876</td>\n",
       "      <td>-0.047407</td>\n",
       "      <td>0.033127</td>\n",
       "      <td>14.95</td>\n",
       "    </tr>\n",
       "    <tr>\n",
       "      <th>3</th>\n",
       "      <td>23194</td>\n",
       "      <td>-2.049784</td>\n",
       "      <td>1.004759</td>\n",
       "      <td>1.726403</td>\n",
       "      <td>1.600998</td>\n",
       "      <td>-1.121759</td>\n",
       "      <td>0.421037</td>\n",
       "      <td>-0.768145</td>\n",
       "      <td>1.133876</td>\n",
       "      <td>1.207850</td>\n",
       "      <td>...</td>\n",
       "      <td>0.155066</td>\n",
       "      <td>0.085733</td>\n",
       "      <td>0.445599</td>\n",
       "      <td>-0.234451</td>\n",
       "      <td>0.040248</td>\n",
       "      <td>0.325920</td>\n",
       "      <td>-0.050118</td>\n",
       "      <td>0.257527</td>\n",
       "      <td>-0.015911</td>\n",
       "      <td>76.60</td>\n",
       "    </tr>\n",
       "    <tr>\n",
       "      <th>4</th>\n",
       "      <td>38531</td>\n",
       "      <td>-0.289738</td>\n",
       "      <td>0.880936</td>\n",
       "      <td>1.787349</td>\n",
       "      <td>0.887265</td>\n",
       "      <td>0.125174</td>\n",
       "      <td>-0.845201</td>\n",
       "      <td>1.256896</td>\n",
       "      <td>-0.632290</td>\n",
       "      <td>-0.260688</td>\n",
       "      <td>...</td>\n",
       "      <td>0.073293</td>\n",
       "      <td>0.062741</td>\n",
       "      <td>0.503452</td>\n",
       "      <td>-0.202127</td>\n",
       "      <td>0.709686</td>\n",
       "      <td>-0.190366</td>\n",
       "      <td>-0.386543</td>\n",
       "      <td>-0.305748</td>\n",
       "      <td>-0.307859</td>\n",
       "      <td>30.54</td>\n",
       "    </tr>\n",
       "    <tr>\n",
       "      <th>...</th>\n",
       "      <td>...</td>\n",
       "      <td>...</td>\n",
       "      <td>...</td>\n",
       "      <td>...</td>\n",
       "      <td>...</td>\n",
       "      <td>...</td>\n",
       "      <td>...</td>\n",
       "      <td>...</td>\n",
       "      <td>...</td>\n",
       "      <td>...</td>\n",
       "      <td>...</td>\n",
       "      <td>...</td>\n",
       "      <td>...</td>\n",
       "      <td>...</td>\n",
       "      <td>...</td>\n",
       "      <td>...</td>\n",
       "      <td>...</td>\n",
       "      <td>...</td>\n",
       "      <td>...</td>\n",
       "      <td>...</td>\n",
       "      <td>...</td>\n",
       "    </tr>\n",
       "    <tr>\n",
       "      <th>57111</th>\n",
       "      <td>31552</td>\n",
       "      <td>0.458761</td>\n",
       "      <td>-2.050144</td>\n",
       "      <td>-0.466434</td>\n",
       "      <td>-0.042731</td>\n",
       "      <td>-1.449051</td>\n",
       "      <td>-0.904008</td>\n",
       "      <td>0.379405</td>\n",
       "      <td>-0.383444</td>\n",
       "      <td>-0.750893</td>\n",
       "      <td>...</td>\n",
       "      <td>0.452662</td>\n",
       "      <td>-0.160474</td>\n",
       "      <td>-1.002111</td>\n",
       "      <td>-0.428028</td>\n",
       "      <td>0.451232</td>\n",
       "      <td>0.230248</td>\n",
       "      <td>1.041581</td>\n",
       "      <td>-0.165922</td>\n",
       "      <td>0.081869</td>\n",
       "      <td>496.74</td>\n",
       "    </tr>\n",
       "    <tr>\n",
       "      <th>57112</th>\n",
       "      <td>42544</td>\n",
       "      <td>0.954816</td>\n",
       "      <td>-0.719838</td>\n",
       "      <td>0.901751</td>\n",
       "      <td>0.080120</td>\n",
       "      <td>-0.814359</td>\n",
       "      <td>0.654128</td>\n",
       "      <td>-0.647104</td>\n",
       "      <td>0.285089</td>\n",
       "      <td>0.819952</td>\n",
       "      <td>...</td>\n",
       "      <td>0.173407</td>\n",
       "      <td>-0.105128</td>\n",
       "      <td>-0.227548</td>\n",
       "      <td>-0.042204</td>\n",
       "      <td>-0.192197</td>\n",
       "      <td>0.070007</td>\n",
       "      <td>0.961082</td>\n",
       "      <td>-0.034767</td>\n",
       "      <td>0.016900</td>\n",
       "      <td>109.12</td>\n",
       "    </tr>\n",
       "    <tr>\n",
       "      <th>57113</th>\n",
       "      <td>41172</td>\n",
       "      <td>-0.926829</td>\n",
       "      <td>-0.886473</td>\n",
       "      <td>2.370167</td>\n",
       "      <td>0.300101</td>\n",
       "      <td>-2.076338</td>\n",
       "      <td>1.149399</td>\n",
       "      <td>0.555557</td>\n",
       "      <td>0.376249</td>\n",
       "      <td>1.209615</td>\n",
       "      <td>...</td>\n",
       "      <td>0.599251</td>\n",
       "      <td>0.165073</td>\n",
       "      <td>0.376110</td>\n",
       "      <td>0.677804</td>\n",
       "      <td>0.472248</td>\n",
       "      <td>-0.166598</td>\n",
       "      <td>1.069099</td>\n",
       "      <td>-0.068823</td>\n",
       "      <td>0.045220</td>\n",
       "      <td>333.00</td>\n",
       "    </tr>\n",
       "    <tr>\n",
       "      <th>57114</th>\n",
       "      <td>41560</td>\n",
       "      <td>0.939876</td>\n",
       "      <td>-0.143305</td>\n",
       "      <td>0.409470</td>\n",
       "      <td>1.401199</td>\n",
       "      <td>-0.315610</td>\n",
       "      <td>0.041466</td>\n",
       "      <td>0.057357</td>\n",
       "      <td>0.118171</td>\n",
       "      <td>0.069849</td>\n",
       "      <td>...</td>\n",
       "      <td>-0.036664</td>\n",
       "      <td>0.011079</td>\n",
       "      <td>0.015211</td>\n",
       "      <td>-0.121116</td>\n",
       "      <td>0.225331</td>\n",
       "      <td>0.559770</td>\n",
       "      <td>-0.350135</td>\n",
       "      <td>0.017372</td>\n",
       "      <td>0.021977</td>\n",
       "      <td>94.90</td>\n",
       "    </tr>\n",
       "    <tr>\n",
       "      <th>57115</th>\n",
       "      <td>52909</td>\n",
       "      <td>1.591900</td>\n",
       "      <td>-0.850352</td>\n",
       "      <td>-0.434399</td>\n",
       "      <td>-1.617696</td>\n",
       "      <td>-0.773801</td>\n",
       "      <td>-0.653197</td>\n",
       "      <td>-0.621472</td>\n",
       "      <td>-0.194046</td>\n",
       "      <td>-2.318691</td>\n",
       "      <td>...</td>\n",
       "      <td>-0.376931</td>\n",
       "      <td>-0.181145</td>\n",
       "      <td>-0.149442</td>\n",
       "      <td>-0.159295</td>\n",
       "      <td>-0.363457</td>\n",
       "      <td>0.727830</td>\n",
       "      <td>-0.054879</td>\n",
       "      <td>-0.009193</td>\n",
       "      <td>-0.014170</td>\n",
       "      <td>0.01</td>\n",
       "    </tr>\n",
       "  </tbody>\n",
       "</table>\n",
       "<p>57116 rows × 30 columns</p>\n",
       "</div>"
      ],
      "text/plain": [
       "        Time        V1        V2        V3        V4        V5        V6  \\\n",
       "0      50920  1.086640  0.148385  0.120522  0.974415 -0.035925 -0.406007   \n",
       "1      34737  1.294054  0.152664  0.195524  0.540694 -0.267245 -0.691144   \n",
       "2      11090 -0.352305  0.614321  2.000903 -0.403523 -0.409279 -0.395518   \n",
       "3      23194 -2.049784  1.004759  1.726403  1.600998 -1.121759  0.421037   \n",
       "4      38531 -0.289738  0.880936  1.787349  0.887265  0.125174 -0.845201   \n",
       "...      ...       ...       ...       ...       ...       ...       ...   \n",
       "57111  31552  0.458761 -2.050144 -0.466434 -0.042731 -1.449051 -0.904008   \n",
       "57112  42544  0.954816 -0.719838  0.901751  0.080120 -0.814359  0.654128   \n",
       "57113  41172 -0.926829 -0.886473  2.370167  0.300101 -2.076338  1.149399   \n",
       "57114  41560  0.939876 -0.143305  0.409470  1.401199 -0.315610  0.041466   \n",
       "57115  52909  1.591900 -0.850352 -0.434399 -1.617696 -0.773801 -0.653197   \n",
       "\n",
       "             V7        V8        V9  ...       V20       V21       V22  \\\n",
       "0      0.270339 -0.139679 -0.411854  ...  0.086793  0.112405  0.221430   \n",
       "1      0.001673 -0.175527  0.179203  ... -0.087916  0.055098  0.213211   \n",
       "2      0.094420  0.066611  0.995869  ... -0.059598  0.055236  0.312846   \n",
       "3     -0.768145  1.133876  1.207850  ...  0.155066  0.085733  0.445599   \n",
       "4      1.256896 -0.632290 -0.260688  ...  0.073293  0.062741  0.503452   \n",
       "...         ...       ...       ...  ...       ...       ...       ...   \n",
       "57111  0.379405 -0.383444 -0.750893  ...  0.452662 -0.160474 -1.002111   \n",
       "57112 -0.647104  0.285089  0.819952  ...  0.173407 -0.105128 -0.227548   \n",
       "57113  0.555557  0.376249  1.209615  ...  0.599251  0.165073  0.376110   \n",
       "57114  0.057357  0.118171  0.069849  ... -0.036664  0.011079  0.015211   \n",
       "57115 -0.621472 -0.194046 -2.318691  ... -0.376931 -0.181145 -0.149442   \n",
       "\n",
       "            V23       V24       V25       V26       V27       V28  Amount  \n",
       "0     -0.226960  0.046246  0.708183 -0.336475  0.002364  0.021463   76.10  \n",
       "1     -0.163730 -0.064862  0.606466  0.504450 -0.033823  0.006327    5.95  \n",
       "2     -0.146312  0.317882 -0.307554  0.975876 -0.047407  0.033127   14.95  \n",
       "3     -0.234451  0.040248  0.325920 -0.050118  0.257527 -0.015911   76.60  \n",
       "4     -0.202127  0.709686 -0.190366 -0.386543 -0.305748 -0.307859   30.54  \n",
       "...         ...       ...       ...       ...       ...       ...     ...  \n",
       "57111 -0.428028  0.451232  0.230248  1.041581 -0.165922  0.081869  496.74  \n",
       "57112 -0.042204 -0.192197  0.070007  0.961082 -0.034767  0.016900  109.12  \n",
       "57113  0.677804  0.472248 -0.166598  1.069099 -0.068823  0.045220  333.00  \n",
       "57114 -0.121116  0.225331  0.559770 -0.350135  0.017372  0.021977   94.90  \n",
       "57115 -0.159295 -0.363457  0.727830 -0.054879 -0.009193 -0.014170    0.01  \n",
       "\n",
       "[57116 rows x 30 columns]"
      ]
     },
     "execution_count": 2,
     "metadata": {},
     "output_type": "execute_result"
    }
   ],
   "source": [
    "X"
   ]
  },
  {
   "cell_type": "code",
   "execution_count": 3,
   "metadata": {},
   "outputs": [
    {
     "data": {
      "text/html": [
       "<div>\n",
       "<style scoped>\n",
       "    .dataframe tbody tr th:only-of-type {\n",
       "        vertical-align: middle;\n",
       "    }\n",
       "\n",
       "    .dataframe tbody tr th {\n",
       "        vertical-align: top;\n",
       "    }\n",
       "\n",
       "    .dataframe thead th {\n",
       "        text-align: right;\n",
       "    }\n",
       "</style>\n",
       "<table border=\"1\" class=\"dataframe\">\n",
       "  <thead>\n",
       "    <tr style=\"text-align: right;\">\n",
       "      <th></th>\n",
       "      <th>Class</th>\n",
       "    </tr>\n",
       "  </thead>\n",
       "  <tbody>\n",
       "    <tr>\n",
       "      <th>0</th>\n",
       "      <td>0.0</td>\n",
       "    </tr>\n",
       "    <tr>\n",
       "      <th>1</th>\n",
       "      <td>0.0</td>\n",
       "    </tr>\n",
       "    <tr>\n",
       "      <th>2</th>\n",
       "      <td>0.0</td>\n",
       "    </tr>\n",
       "    <tr>\n",
       "      <th>3</th>\n",
       "      <td>0.0</td>\n",
       "    </tr>\n",
       "    <tr>\n",
       "      <th>4</th>\n",
       "      <td>0.0</td>\n",
       "    </tr>\n",
       "    <tr>\n",
       "      <th>...</th>\n",
       "      <td>...</td>\n",
       "    </tr>\n",
       "    <tr>\n",
       "      <th>57111</th>\n",
       "      <td>0.0</td>\n",
       "    </tr>\n",
       "    <tr>\n",
       "      <th>57112</th>\n",
       "      <td>0.0</td>\n",
       "    </tr>\n",
       "    <tr>\n",
       "      <th>57113</th>\n",
       "      <td>0.0</td>\n",
       "    </tr>\n",
       "    <tr>\n",
       "      <th>57114</th>\n",
       "      <td>0.0</td>\n",
       "    </tr>\n",
       "    <tr>\n",
       "      <th>57115</th>\n",
       "      <td>0.0</td>\n",
       "    </tr>\n",
       "  </tbody>\n",
       "</table>\n",
       "<p>57116 rows × 1 columns</p>\n",
       "</div>"
      ],
      "text/plain": [
       "       Class\n",
       "0        0.0\n",
       "1        0.0\n",
       "2        0.0\n",
       "3        0.0\n",
       "4        0.0\n",
       "...      ...\n",
       "57111    0.0\n",
       "57112    0.0\n",
       "57113    0.0\n",
       "57114    0.0\n",
       "57115    0.0\n",
       "\n",
       "[57116 rows x 1 columns]"
      ]
     },
     "execution_count": 3,
     "metadata": {},
     "output_type": "execute_result"
    }
   ],
   "source": [
    "y"
   ]
  },
  {
   "cell_type": "code",
   "execution_count": 7,
   "metadata": {},
   "outputs": [
    {
     "name": "stdout",
     "output_type": "stream",
     "text": [
      "belonging to class 0 - \"NOT FRAUD\" :\n",
      "Class    56974\n",
      "dtype: int64\n",
      "belonging to class 1 - \"FRAUD\" :\n",
      "Class    142\n",
      "dtype: int64\n"
     ]
    }
   ],
   "source": [
    "print('belonging to class 0 - \"NOT FRAUD\" :')\n",
    "# not_fraud_transactions = y[y['Class']==0].count()\n",
    "print(y[y['Class']==0].count())\n",
    "print('belonging to class 1 - \"FRAUD\" :')\n",
    "print(y[y['Class']==1].count())"
   ]
  },
  {
   "cell_type": "code",
   "execution_count": 11,
   "metadata": {},
   "outputs": [
    {
     "data": {
      "image/png": "[encoded data removed]",
      "text/plain": [
       "<Figure size 640x480 with 1 Axes>"
      ]
     },
     "metadata": {},
     "output_type": "display_data"
    }
   ],
   "source": [
    "import matplotlib.pyplot as plt\n",
    "\n",
    "# Sample data\n",
    "class_labels = ['Not Fraud', 'Fraud']\n",
    "class_counts = [56974, 142]  # Replace these with the actual counts from your dataset\n",
    "\n",
    "# Plotting the bar graph\n",
    "plt.bar(class_labels, class_counts, color=['green', 'red'])\n",
    "\n",
    "# Adding labels and title\n",
    "plt.xlabel('Class')\n",
    "plt.ylabel('Number of Instances')\n",
    "plt.title('Distribution of Classes in the Dataset')\n",
    "\n",
    "# Display the plot\n",
    "plt.show()\n"
   ]
  },
  {
   "cell_type": "code",
   "execution_count": 9,
   "metadata": {},
   "outputs": [
    {
     "data": {
      "text/html": [
       "<div>\n",
       "<style scoped>\n",
       "    .dataframe tbody tr th:only-of-type {\n",
       "        vertical-align: middle;\n",
       "    }\n",
       "\n",
       "    .dataframe tbody tr th {\n",
       "        vertical-align: top;\n",
       "    }\n",
       "\n",
       "    .dataframe thead th {\n",
       "        text-align: right;\n",
       "    }\n",
       "</style>\n",
       "<table border=\"1\" class=\"dataframe\">\n",
       "  <thead>\n",
       "    <tr style=\"text-align: right;\">\n",
       "      <th></th>\n",
       "      <th>Time</th>\n",
       "      <th>V1</th>\n",
       "      <th>V2</th>\n",
       "      <th>V3</th>\n",
       "      <th>V4</th>\n",
       "      <th>V5</th>\n",
       "      <th>V6</th>\n",
       "      <th>V7</th>\n",
       "      <th>V8</th>\n",
       "      <th>V9</th>\n",
       "      <th>...</th>\n",
       "      <th>V21</th>\n",
       "      <th>V22</th>\n",
       "      <th>V23</th>\n",
       "      <th>V24</th>\n",
       "      <th>V25</th>\n",
       "      <th>V26</th>\n",
       "      <th>V27</th>\n",
       "      <th>V28</th>\n",
       "      <th>Amount</th>\n",
       "      <th>Class</th>\n",
       "    </tr>\n",
       "  </thead>\n",
       "  <tbody>\n",
       "    <tr>\n",
       "      <th>0</th>\n",
       "      <td>50920</td>\n",
       "      <td>1.086640</td>\n",
       "      <td>0.148385</td>\n",
       "      <td>0.120522</td>\n",
       "      <td>0.974415</td>\n",
       "      <td>-0.035925</td>\n",
       "      <td>-0.406007</td>\n",
       "      <td>0.270339</td>\n",
       "      <td>-0.139679</td>\n",
       "      <td>-0.411854</td>\n",
       "      <td>...</td>\n",
       "      <td>0.112405</td>\n",
       "      <td>0.221430</td>\n",
       "      <td>-0.226960</td>\n",
       "      <td>0.046246</td>\n",
       "      <td>0.708183</td>\n",
       "      <td>-0.336475</td>\n",
       "      <td>0.002364</td>\n",
       "      <td>0.021463</td>\n",
       "      <td>76.10</td>\n",
       "      <td>0.0</td>\n",
       "    </tr>\n",
       "    <tr>\n",
       "      <th>1</th>\n",
       "      <td>34737</td>\n",
       "      <td>1.294054</td>\n",
       "      <td>0.152664</td>\n",
       "      <td>0.195524</td>\n",
       "      <td>0.540694</td>\n",
       "      <td>-0.267245</td>\n",
       "      <td>-0.691144</td>\n",
       "      <td>0.001673</td>\n",
       "      <td>-0.175527</td>\n",
       "      <td>0.179203</td>\n",
       "      <td>...</td>\n",
       "      <td>0.055098</td>\n",
       "      <td>0.213211</td>\n",
       "      <td>-0.163730</td>\n",
       "      <td>-0.064862</td>\n",
       "      <td>0.606466</td>\n",
       "      <td>0.504450</td>\n",
       "      <td>-0.033823</td>\n",
       "      <td>0.006327</td>\n",
       "      <td>5.95</td>\n",
       "      <td>0.0</td>\n",
       "    </tr>\n",
       "    <tr>\n",
       "      <th>2</th>\n",
       "      <td>11090</td>\n",
       "      <td>-0.352305</td>\n",
       "      <td>0.614321</td>\n",
       "      <td>2.000903</td>\n",
       "      <td>-0.403523</td>\n",
       "      <td>-0.409279</td>\n",
       "      <td>-0.395518</td>\n",
       "      <td>0.094420</td>\n",
       "      <td>0.066611</td>\n",
       "      <td>0.995869</td>\n",
       "      <td>...</td>\n",
       "      <td>0.055236</td>\n",
       "      <td>0.312846</td>\n",
       "      <td>-0.146312</td>\n",
       "      <td>0.317882</td>\n",
       "      <td>-0.307554</td>\n",
       "      <td>0.975876</td>\n",
       "      <td>-0.047407</td>\n",
       "      <td>0.033127</td>\n",
       "      <td>14.95</td>\n",
       "      <td>0.0</td>\n",
       "    </tr>\n",
       "    <tr>\n",
       "      <th>3</th>\n",
       "      <td>23194</td>\n",
       "      <td>-2.049784</td>\n",
       "      <td>1.004759</td>\n",
       "      <td>1.726403</td>\n",
       "      <td>1.600998</td>\n",
       "      <td>-1.121759</td>\n",
       "      <td>0.421037</td>\n",
       "      <td>-0.768145</td>\n",
       "      <td>1.133876</td>\n",
       "      <td>1.207850</td>\n",
       "      <td>...</td>\n",
       "      <td>0.085733</td>\n",
       "      <td>0.445599</td>\n",
       "      <td>-0.234451</td>\n",
       "      <td>0.040248</td>\n",
       "      <td>0.325920</td>\n",
       "      <td>-0.050118</td>\n",
       "      <td>0.257527</td>\n",
       "      <td>-0.015911</td>\n",
       "      <td>76.60</td>\n",
       "      <td>0.0</td>\n",
       "    </tr>\n",
       "    <tr>\n",
       "      <th>4</th>\n",
       "      <td>38531</td>\n",
       "      <td>-0.289738</td>\n",
       "      <td>0.880936</td>\n",
       "      <td>1.787349</td>\n",
       "      <td>0.887265</td>\n",
       "      <td>0.125174</td>\n",
       "      <td>-0.845201</td>\n",
       "      <td>1.256896</td>\n",
       "      <td>-0.632290</td>\n",
       "      <td>-0.260688</td>\n",
       "      <td>...</td>\n",
       "      <td>0.062741</td>\n",
       "      <td>0.503452</td>\n",
       "      <td>-0.202127</td>\n",
       "      <td>0.709686</td>\n",
       "      <td>-0.190366</td>\n",
       "      <td>-0.386543</td>\n",
       "      <td>-0.305748</td>\n",
       "      <td>-0.307859</td>\n",
       "      <td>30.54</td>\n",
       "      <td>0.0</td>\n",
       "    </tr>\n",
       "  </tbody>\n",
       "</table>\n",
       "<p>5 rows × 31 columns</p>\n",
       "</div>"
      ],
      "text/plain": [
       "    Time        V1        V2        V3        V4        V5        V6  \\\n",
       "0  50920  1.086640  0.148385  0.120522  0.974415 -0.035925 -0.406007   \n",
       "1  34737  1.294054  0.152664  0.195524  0.540694 -0.267245 -0.691144   \n",
       "2  11090 -0.352305  0.614321  2.000903 -0.403523 -0.409279 -0.395518   \n",
       "3  23194 -2.049784  1.004759  1.726403  1.600998 -1.121759  0.421037   \n",
       "4  38531 -0.289738  0.880936  1.787349  0.887265  0.125174 -0.845201   \n",
       "\n",
       "         V7        V8        V9  ...       V21       V22       V23       V24  \\\n",
       "0  0.270339 -0.139679 -0.411854  ...  0.112405  0.221430 -0.226960  0.046246   \n",
       "1  0.001673 -0.175527  0.179203  ...  0.055098  0.213211 -0.163730 -0.064862   \n",
       "2  0.094420  0.066611  0.995869  ...  0.055236  0.312846 -0.146312  0.317882   \n",
       "3 -0.768145  1.133876  1.207850  ...  0.085733  0.445599 -0.234451  0.040248   \n",
       "4  1.256896 -0.632290 -0.260688  ...  0.062741  0.503452 -0.202127  0.709686   \n",
       "\n",
       "        V25       V26       V27       V28  Amount  Class  \n",
       "0  0.708183 -0.336475  0.002364  0.021463   76.10    0.0  \n",
       "1  0.606466  0.504450 -0.033823  0.006327    5.95    0.0  \n",
       "2 -0.307554  0.975876 -0.047407  0.033127   14.95    0.0  \n",
       "3  0.325920 -0.050118  0.257527 -0.015911   76.60    0.0  \n",
       "4 -0.190366 -0.386543 -0.305748 -0.307859   30.54    0.0  \n",
       "\n",
       "[5 rows x 31 columns]"
      ]
     },
     "execution_count": 9,
     "metadata": {},
     "output_type": "execute_result"
    }
   ],
   "source": [
    "data = pd.concat([X, y], axis = 1)\n",
    "data.head()\n"
   ]
  },
  {
   "cell_type": "code",
   "execution_count": 12,
   "metadata": {},
   "outputs": [
    {
     "data": {
      "text/plain": [
       "Time      0\n",
       "V1        0\n",
       "V2        0\n",
       "V3        0\n",
       "V4        0\n",
       "V5        0\n",
       "V6        0\n",
       "V7        0\n",
       "V8        0\n",
       "V9        0\n",
       "V10       0\n",
       "V11       0\n",
       "V12       0\n",
       "V13       0\n",
       "V14       0\n",
       "V15       0\n",
       "V16       0\n",
       "V17       0\n",
       "V18       0\n",
       "V19       0\n",
       "V20       0\n",
       "V21       0\n",
       "V22       0\n",
       "V23       0\n",
       "V24       0\n",
       "V25       0\n",
       "V26       0\n",
       "V27       0\n",
       "V28       0\n",
       "Amount    0\n",
       "Class     0\n",
       "dtype: int64"
      ]
     },
     "execution_count": 12,
     "metadata": {},
     "output_type": "execute_result"
    }
   ],
   "source": [
    "data.isna().sum()"
   ]
  },
  {
   "cell_type": "markdown",
   "metadata": {},
   "source": [
    "# **UNDERSAMPLING**\n"
   ]
  },
  {
   "cell_type": "markdown",
   "metadata": {},
   "source": [
    "# NEAR MISS"
   ]
  },
  {
   "cell_type": "code",
   "execution_count": 13,
   "metadata": {},
   "outputs": [],
   "source": [
    "from imblearn.under_sampling import NearMiss\n",
    "nm1 = NearMiss(version = 1)\n",
    "X_resampled_nm, y_resampled = nm1.fit_resample(X, y)"
   ]
  },
  {
   "cell_type": "code",
   "execution_count": 14,
   "metadata": {},
   "outputs": [
    {
     "name": "stdout",
     "output_type": "stream",
     "text": [
      "Class    142\n",
      "dtype: int64\n",
      "Class    142\n",
      "dtype: int64\n"
     ]
    }
   ],
   "source": [
    "print(y_resampled[y_resampled[\"Class\"]==0].count())\n",
    "print(y_resampled[y_resampled[\"Class\"]==1].count())"
   ]
  },
  {
   "cell_type": "markdown",
   "metadata": {},
   "source": [
    "We can see many datapoints are lost.\n",
    "So, considering NearMiss is not a good option."
   ]
  },
  {
   "cell_type": "markdown",
   "metadata": {},
   "source": [
    "# Random UnderSampling and OverSampling"
   ]
  },
  {
   "cell_type": "code",
   "execution_count": 40,
   "metadata": {},
   "outputs": [],
   "source": [
    "from imblearn.under_sampling import RandomUnderSampler\n",
    "from imblearn.over_sampling import RandomOverSampler\n",
    "from imblearn.pipeline import Pipeline\n",
    "\n",
    "counts_0 = {0: 12500, 1 : 104} \n",
    "counts_1= {0: 12500, 1: 2500}\n",
    "\n",
    "pipeline = Pipeline([\n",
    "    ('under_sampling', RandomUnderSampler(sampling_strategy=counts_0, random_state=42)),\n",
    "    ('over_sampling', RandomOverSampler(sampling_strategy=counts_1, random_state=42))\n",
    "])\n",
    "\n",
    "X_random_selected, y_random_selected = pipeline.fit_resample(X, y)\n",
    "\n"
   ]
  },
  {
   "cell_type": "code",
   "execution_count": 24,
   "metadata": {},
   "outputs": [
    {
     "name": "stdout",
     "output_type": "stream",
     "text": [
      "Class    12500\n",
      "dtype: int64\n",
      "Class    2500\n",
      "dtype: int64\n"
     ]
    }
   ],
   "source": [
    "print(y_random_selected[y_random_selected[\"Class\"]==0].count())\n",
    "print(y_random_selected[y_random_selected[\"Class\"]==1].count())"
   ]
  },
  {
   "cell_type": "markdown",
   "metadata": {},
   "source": [
    "# Train_test_split"
   ]
  },
  {
   "cell_type": "code",
   "execution_count": 25,
   "metadata": {},
   "outputs": [],
   "source": [
    "from sklearn.model_selection import train_test_split\n",
    "X_train_rs, X_test_rs, y_train_rs, y_test_rs = train_test_split(X_random_selected, y_random_selected, test_size = 0.2, random_state = 42)"
   ]
  },
  {
   "cell_type": "markdown",
   "metadata": {},
   "source": [
    "# FEATURE SELECTION\n"
   ]
  },
  {
   "cell_type": "code",
   "execution_count": 37,
   "metadata": {},
   "outputs": [
    {
     "name": "stderr",
     "output_type": "stream",
     "text": [
      "C:\\Users\\sharm\\AppData\\Local\\Packages\\PythonSoftwareFoundation.Python.3.11_qbz5n2kfra8p0\\LocalCache\\local-packages\\Python311\\site-packages\\sklearn\\utils\\validation.py:1183: DataConversionWarning: A column-vector y was passed when a 1d array was expected. Please change the shape of y to (n_samples, ), for example using ravel().\n",
      "  y = column_or_1d(y, warn=True)\n"
     ]
    },
    {
     "name": "stdout",
     "output_type": "stream",
     "text": [
      "[0.3996728  0.40812974 0.41760783 0.42138141 0.42704096 0.41333999\n",
      " 0.41315239 0.41765104 0.41364344 0.4230743  0.43446314 0.43371342\n",
      " 0.43558275 0.39957678 0.43847029 0.4001997  0.43118712 0.43665985\n",
      " 0.42566066 0.40719652 0.39928782 0.40855974 0.39983864 0.40047677\n",
      " 0.39979894 0.39977146 0.39618506 0.41075024 0.40394108 0.33329126]\n",
      "\n"
     ]
    },
    {
     "data": {
      "text/plain": [
       "<Axes: >"
      ]
     },
     "execution_count": 37,
     "metadata": {},
     "output_type": "execute_result"
    },
    {
     "data": {
      "image/png": "[encoded data removed]",
      "text/plain": [
       "<Figure size 2000x800 with 1 Axes>"
      ]
     },
     "metadata": {},
     "output_type": "display_data"
    }
   ],
   "source": [
    "from sklearn.feature_selection import mutual_info_classif\n",
    "m_rs = mutual_info_classif(X_train_rs, y_train_rs)\n",
    "print(m_rs)\n",
    "print()\n",
    "\n",
    "m_rs = pd.Series(m_rs)\n",
    "m_rs.index = X_train_rs.columns\n",
    "m_rs.sort_values(ascending= False)\n",
    "m_rs.sort_values(ascending= False).plot.bar(figsize=(20,8))"
   ]
  },
  {
   "cell_type": "markdown",
   "metadata": {},
   "source": [
    "# SMOTETomek "
   ]
  },
  {
   "cell_type": "code",
   "execution_count": 26,
   "metadata": {},
   "outputs": [],
   "source": [
    "from imblearn.combine import SMOTETomek\n",
    "smto = SMOTETomek()\n",
    "X_smto, y_smto = smto.fit_resample(X, y)"
   ]
  },
  {
   "cell_type": "code",
   "execution_count": 20,
   "metadata": {},
   "outputs": [
    {
     "name": "stdout",
     "output_type": "stream",
     "text": [
      "belonging to class 0 - \"NOT FRAUD\" :\n",
      "Class    56855\n",
      "dtype: int64\n",
      "belonging to class 1 - \"FRAUD\" :\n",
      "Class    56855\n",
      "dtype: int64\n"
     ]
    }
   ],
   "source": [
    "print('belonging to class 0 - \"NOT FRAUD\" :')\n",
    "print(y_smto[y_smto['Class']==0].count())\n",
    "print('belonging to class 1 - \"FRAUD\" :')\n",
    "print(y_smto[y_smto['Class']==1].count())"
   ]
  },
  {
   "cell_type": "markdown",
   "metadata": {},
   "source": [
    "# train_test_split"
   ]
  },
  {
   "cell_type": "code",
   "execution_count": 32,
   "metadata": {},
   "outputs": [],
   "source": [
    "from sklearn.model_selection import train_test_split\n",
    "X_train_smto, X_test_smto, y_train_smto, y_test_smto = train_test_split(X_smto, y_smto, test_size = 0.2, random_state = 42)"
   ]
  },
  {
   "cell_type": "markdown",
   "metadata": {},
   "source": [
    "# Feature selection"
   ]
  },
  {
   "cell_type": "code",
   "execution_count": 38,
   "metadata": {},
   "outputs": [
    {
     "name": "stderr",
     "output_type": "stream",
     "text": [
      "C:\\Users\\sharm\\AppData\\Local\\Packages\\PythonSoftwareFoundation.Python.3.11_qbz5n2kfra8p0\\LocalCache\\local-packages\\Python311\\site-packages\\sklearn\\utils\\validation.py:1183: DataConversionWarning: A column-vector y was passed when a 1d array was expected. Please change the shape of y to (n_samples, ), for example using ravel().\n",
      "  y = column_or_1d(y, warn=True)\n"
     ]
    },
    {
     "name": "stdout",
     "output_type": "stream",
     "text": [
      "[0.30532723 0.30540762 0.42338354 0.49715357 0.52089072 0.25603978\n",
      " 0.37239526 0.40347489 0.24511149 0.35737333 0.53064297 0.49937745\n",
      " 0.52391975 0.05414069 0.58234434 0.05620752 0.42161953 0.48202344\n",
      " 0.29496944 0.13980918 0.17431654 0.34080422 0.03543937 0.10457649\n",
      " 0.10214222 0.09350152 0.17219578 0.31453755 0.26890044 0.30925131]\n",
      "\n"
     ]
    },
    {
     "data": {
      "text/plain": [
       "<Axes: >"
      ]
     },
     "execution_count": 38,
     "metadata": {},
     "output_type": "execute_result"
    },
    {
     "data": {
      "image/png": "[encoded data removed]",
      "text/plain": [
       "<Figure size 2000x800 with 1 Axes>"
      ]
     },
     "metadata": {},
     "output_type": "display_data"
    }
   ],
   "source": [
    "from sklearn.feature_selection import mutual_info_classif\n",
    "m_smto = mutual_info_classif(X_train_smto, y_train_smto)\n",
    "print(m_smto)\n",
    "print()\n",
    "\n",
    "m_smto = pd.Series(m_smto)\n",
    "m_smto.index = X_train_smto.columns\n",
    "m_smto.sort_values(ascending= False)\n",
    "m_smto.sort_values(ascending= False).plot.bar(figsize=(20,8))"
   ]
  },
  {
   "cell_type": "markdown",
   "metadata": {},
   "source": [
    "# SMOTE + TomekLinks "
   ]
  },
  {
   "cell_type": "code",
   "execution_count": 27,
   "metadata": {},
   "outputs": [],
   "source": [
    "from imblearn.over_sampling import SMOTE\n",
    "desired_counts = {0:57000, 1: 2500}\n",
    "smot = SMOTE(sampling_strategy=desired_counts, random_state=42)\n",
    "X_smot, y_smot =smot.fit_resample(X, y)\n",
    "\n",
    "from imblearn.under_sampling import TomekLinks\n",
    "\n",
    "tomek_links = TomekLinks()\n",
    "X_smotu, y_smotu = tomek_links.fit_resample(X_smot, y_smot)"
   ]
  },
  {
   "cell_type": "code",
   "execution_count": 28,
   "metadata": {},
   "outputs": [
    {
     "name": "stdout",
     "output_type": "stream",
     "text": [
      "Class    56899\n",
      "dtype: int64\n",
      "Class    2500\n",
      "dtype: int64\n"
     ]
    }
   ],
   "source": [
    "print(y_smotu[y_smotu[\"Class\"]==0].count())\n",
    "print(y_smotu[y_smotu[\"Class\"]==1].count())"
   ]
  },
  {
   "cell_type": "markdown",
   "metadata": {},
   "source": [
    "# TRAIN TEST SPLIT"
   ]
  },
  {
   "cell_type": "code",
   "execution_count": 33,
   "metadata": {},
   "outputs": [],
   "source": [
    "from sklearn.model_selection import train_test_split\n",
    "X_train_smotu, X_test_smotu, y_train_smotu, y_test_smotu = train_test_split(X_smotu, y_smotu, test_size = 0.2, random_state = 42)"
   ]
  },
  {
   "cell_type": "markdown",
   "metadata": {},
   "source": [
    "# FEATURE SELECTION "
   ]
  },
  {
   "cell_type": "code",
   "execution_count": 36,
   "metadata": {},
   "outputs": [
    {
     "name": "stderr",
     "output_type": "stream",
     "text": [
      "C:\\Users\\sharm\\AppData\\Local\\Packages\\PythonSoftwareFoundation.Python.3.11_qbz5n2kfra8p0\\LocalCache\\local-packages\\Python311\\site-packages\\sklearn\\utils\\validation.py:1183: DataConversionWarning: A column-vector y was passed when a 1d array was expected. Please change the shape of y to (n_samples, ), for example using ravel().\n",
      "  y = column_or_1d(y, warn=True)\n"
     ]
    },
    {
     "name": "stdout",
     "output_type": "stream",
     "text": [
      "[0.0606635  0.06775411 0.09829942 0.11835163 0.1256789  0.06686024\n",
      " 0.08931678 0.10211781 0.06227509 0.09413163 0.13675848 0.130961\n",
      " 0.13724496 0.00755105 0.1454236  0.00939572 0.11308991 0.12979683\n",
      " 0.0862471  0.03218505 0.03778264 0.07746979 0.00646967 0.02258555\n",
      " 0.01586196 0.02452463 0.02888107 0.07199074 0.05806769 0.04372188]\n",
      "\n"
     ]
    },
    {
     "data": {
      "text/plain": [
       "<Axes: >"
      ]
     },
     "execution_count": 36,
     "metadata": {},
     "output_type": "execute_result"
    },
    {
     "data": {
      "image/png": "[encoded data removed]",
      "text/plain": [
       "<Figure size 2000x800 with 1 Axes>"
      ]
     },
     "metadata": {},
     "output_type": "display_data"
    }
   ],
   "source": [
    "from sklearn.feature_selection import mutual_info_classif\n",
    "m_smotu = mutual_info_classif(X_train_smotu, y_train_smotu)\n",
    "print(m_smotu)\n",
    "print()\n",
    "\n",
    "m_smotu = pd.Series(m_smotu)\n",
    "m_smotu.index = X_train_smotu.columns\n",
    "m_smotu.sort_values(ascending= False)\n",
    "m_smotu.sort_values(ascending= False).plot.bar(figsize=(20,8))"
   ]
  },
  {
   "cell_type": "code",
   "execution_count": null,
   "metadata": {},
   "outputs": [],
   "source": []
  }
 ],
 "metadata": {
  "kernelspec": {
   "display_name": "Python 3",
   "language": "python",
   "name": "python3"
  },
  "language_info": {
   "codemirror_mode": {
    "name": "ipython",
    "version": 3
   },
   "file_extension": ".py",
   "mimetype": "text/x-python",
   "name": "python",
   "nbconvert_exporter": "python",
   "pygments_lexer": "ipython3",
   "version": "3.11.6"
  }
 },
 "nbformat": 4,
 "nbformat_minor": 2
}
