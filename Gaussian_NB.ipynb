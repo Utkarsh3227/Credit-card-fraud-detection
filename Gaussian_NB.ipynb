{
 "cells": [
  {
   "cell_type": "markdown",
   "metadata": {},
   "source": [
    "# **GAUSSIAN NAIVE BAYES**"
   ]
  },
  {
   "cell_type": "code",
   "execution_count": 1,
   "metadata": {},
   "outputs": [
    {
     "name": "stdout",
     "output_type": "stream",
     "text": [
      "\n",
      "\t### Training Gaussian Naive Bayes Classifier ### \n",
      "\n"
     ]
    }
   ],
   "source": [
    "from sklearn.naive_bayes import GaussianNB\n",
    "import pandas as pd\n",
    "import numpy as np\n",
    "print('\\n\\t### Training Gaussian Naive Bayes Classifier ### \\n')\n",
    "np.random.seed(40)\n",
    "g_NB = GaussianNB()\n",
    "g_NB_parameters = {\n",
    "\n",
    "            }"
   ]
  },
  {
   "cell_type": "markdown",
   "metadata": {},
   "source": [
    "#  **Random UnderSampling and OverSampling**   ###"
   ]
  },
  {
   "cell_type": "code",
   "execution_count": 2,
   "metadata": {},
   "outputs": [],
   "source": [
    "from imblearn.under_sampling import RandomUnderSampler\n",
    "from imblearn.over_sampling import RandomOverSampler\n",
    "from imblearn.pipeline import Pipeline\n",
    "import pandas as pd\n",
    "\n",
    "X = pd.read_csv('training_data.csv')\n",
    "y = pd.read_csv('train_data_classlabels.csv')\n",
    "X1 = pd.read_csv('testing_data.csv')\n",
    "counts_0 = {0: 40000, 1 : 142} \n",
    "counts_1= {0: 40000, 1: 3500}\n",
    "\n",
    "pipeline = Pipeline([\n",
    "    ('under_sampling', RandomUnderSampler(sampling_strategy=counts_0, random_state=40)),\n",
    "    ('over_sampling', RandomOverSampler(sampling_strategy=counts_1, random_state=40))\n",
    "])\n",
    "\n",
    "X_random_selected, y_random_selected = pipeline.fit_resample(X, y)\n",
    "\n",
    "# train_test_split\n",
    "\n",
    "from sklearn.model_selection import train_test_split\n",
    "X_train_rs, X_test_rs, y_train_rs, y_test_rs = train_test_split(X_random_selected, y_random_selected, test_size = 0.4, random_state = 40)"
   ]
  },
  {
   "cell_type": "code",
   "execution_count": 5,
   "metadata": {},
   "outputs": [
    {
     "data": {
      "text/html": [
       "<div>\n",
       "<style scoped>\n",
       "    .dataframe tbody tr th:only-of-type {\n",
       "        vertical-align: middle;\n",
       "    }\n",
       "\n",
       "    .dataframe tbody tr th {\n",
       "        vertical-align: top;\n",
       "    }\n",
       "\n",
       "    .dataframe thead th {\n",
       "        text-align: right;\n",
       "    }\n",
       "</style>\n",
       "<table border=\"1\" class=\"dataframe\">\n",
       "  <thead>\n",
       "    <tr style=\"text-align: right;\">\n",
       "      <th></th>\n",
       "      <th>Time</th>\n",
       "      <th>V1</th>\n",
       "      <th>V2</th>\n",
       "      <th>V3</th>\n",
       "      <th>V4</th>\n",
       "      <th>V5</th>\n",
       "      <th>V6</th>\n",
       "      <th>V7</th>\n",
       "      <th>V8</th>\n",
       "      <th>V9</th>\n",
       "      <th>...</th>\n",
       "      <th>V20</th>\n",
       "      <th>V21</th>\n",
       "      <th>V22</th>\n",
       "      <th>V23</th>\n",
       "      <th>V24</th>\n",
       "      <th>V25</th>\n",
       "      <th>V26</th>\n",
       "      <th>V27</th>\n",
       "      <th>V28</th>\n",
       "      <th>Amount</th>\n",
       "    </tr>\n",
       "  </thead>\n",
       "  <tbody>\n",
       "    <tr>\n",
       "      <th>0</th>\n",
       "      <td>48807</td>\n",
       "      <td>-0.839499</td>\n",
       "      <td>0.916987</td>\n",
       "      <td>1.912416</td>\n",
       "      <td>1.108648</td>\n",
       "      <td>-0.672263</td>\n",
       "      <td>0.051176</td>\n",
       "      <td>-0.036875</td>\n",
       "      <td>0.636539</td>\n",
       "      <td>0.050864</td>\n",
       "      <td>...</td>\n",
       "      <td>-0.238961</td>\n",
       "      <td>0.078684</td>\n",
       "      <td>0.414923</td>\n",
       "      <td>-0.085743</td>\n",
       "      <td>0.625238</td>\n",
       "      <td>0.109643</td>\n",
       "      <td>-0.330143</td>\n",
       "      <td>-0.000965</td>\n",
       "      <td>0.003413</td>\n",
       "      <td>15.38</td>\n",
       "    </tr>\n",
       "    <tr>\n",
       "      <th>1</th>\n",
       "      <td>40941</td>\n",
       "      <td>-1.560421</td>\n",
       "      <td>1.007666</td>\n",
       "      <td>0.799862</td>\n",
       "      <td>-0.456506</td>\n",
       "      <td>-0.595015</td>\n",
       "      <td>-0.582802</td>\n",
       "      <td>-0.296379</td>\n",
       "      <td>0.964852</td>\n",
       "      <td>-0.204514</td>\n",
       "      <td>...</td>\n",
       "      <td>-0.167403</td>\n",
       "      <td>0.134970</td>\n",
       "      <td>0.288105</td>\n",
       "      <td>-0.154460</td>\n",
       "      <td>0.397320</td>\n",
       "      <td>-0.110161</td>\n",
       "      <td>0.470593</td>\n",
       "      <td>-0.060721</td>\n",
       "      <td>0.014212</td>\n",
       "      <td>1.00</td>\n",
       "    </tr>\n",
       "    <tr>\n",
       "      <th>2</th>\n",
       "      <td>46525</td>\n",
       "      <td>-0.216150</td>\n",
       "      <td>-2.541602</td>\n",
       "      <td>-0.932535</td>\n",
       "      <td>0.675208</td>\n",
       "      <td>-1.052992</td>\n",
       "      <td>-0.352356</td>\n",
       "      <td>1.032765</td>\n",
       "      <td>-0.253473</td>\n",
       "      <td>0.087743</td>\n",
       "      <td>...</td>\n",
       "      <td>1.429557</td>\n",
       "      <td>0.397866</td>\n",
       "      <td>-0.554943</td>\n",
       "      <td>-0.808129</td>\n",
       "      <td>0.098446</td>\n",
       "      <td>0.238762</td>\n",
       "      <td>1.014958</td>\n",
       "      <td>-0.251693</td>\n",
       "      <td>0.111646</td>\n",
       "      <td>778.00</td>\n",
       "    </tr>\n",
       "    <tr>\n",
       "      <th>3</th>\n",
       "      <td>42859</td>\n",
       "      <td>-0.543125</td>\n",
       "      <td>0.741029</td>\n",
       "      <td>0.552261</td>\n",
       "      <td>0.749349</td>\n",
       "      <td>0.612035</td>\n",
       "      <td>0.797614</td>\n",
       "      <td>1.120176</td>\n",
       "      <td>-0.073450</td>\n",
       "      <td>-0.644201</td>\n",
       "      <td>...</td>\n",
       "      <td>0.098120</td>\n",
       "      <td>0.094355</td>\n",
       "      <td>0.352583</td>\n",
       "      <td>-0.241595</td>\n",
       "      <td>-1.292714</td>\n",
       "      <td>0.009425</td>\n",
       "      <td>-0.152050</td>\n",
       "      <td>0.091837</td>\n",
       "      <td>0.123704</td>\n",
       "      <td>141.75</td>\n",
       "    </tr>\n",
       "    <tr>\n",
       "      <th>4</th>\n",
       "      <td>44051</td>\n",
       "      <td>0.887965</td>\n",
       "      <td>-1.055805</td>\n",
       "      <td>0.820712</td>\n",
       "      <td>-0.308878</td>\n",
       "      <td>-1.252033</td>\n",
       "      <td>0.150234</td>\n",
       "      <td>-0.806711</td>\n",
       "      <td>0.214245</td>\n",
       "      <td>0.742892</td>\n",
       "      <td>...</td>\n",
       "      <td>0.351202</td>\n",
       "      <td>0.294355</td>\n",
       "      <td>0.414927</td>\n",
       "      <td>-0.239961</td>\n",
       "      <td>-0.259445</td>\n",
       "      <td>-0.037567</td>\n",
       "      <td>1.501088</td>\n",
       "      <td>-0.099707</td>\n",
       "      <td>0.030234</td>\n",
       "      <td>191.20</td>\n",
       "    </tr>\n",
       "    <tr>\n",
       "      <th>...</th>\n",
       "      <td>...</td>\n",
       "      <td>...</td>\n",
       "      <td>...</td>\n",
       "      <td>...</td>\n",
       "      <td>...</td>\n",
       "      <td>...</td>\n",
       "      <td>...</td>\n",
       "      <td>...</td>\n",
       "      <td>...</td>\n",
       "      <td>...</td>\n",
       "      <td>...</td>\n",
       "      <td>...</td>\n",
       "      <td>...</td>\n",
       "      <td>...</td>\n",
       "      <td>...</td>\n",
       "      <td>...</td>\n",
       "      <td>...</td>\n",
       "      <td>...</td>\n",
       "      <td>...</td>\n",
       "      <td>...</td>\n",
       "      <td>...</td>\n",
       "    </tr>\n",
       "    <tr>\n",
       "      <th>14275</th>\n",
       "      <td>40270</td>\n",
       "      <td>-1.026431</td>\n",
       "      <td>-0.718597</td>\n",
       "      <td>2.291596</td>\n",
       "      <td>-3.057681</td>\n",
       "      <td>-1.304122</td>\n",
       "      <td>-0.766397</td>\n",
       "      <td>-0.441554</td>\n",
       "      <td>0.144293</td>\n",
       "      <td>-2.060949</td>\n",
       "      <td>...</td>\n",
       "      <td>-0.548218</td>\n",
       "      <td>0.045393</td>\n",
       "      <td>0.188862</td>\n",
       "      <td>-0.223333</td>\n",
       "      <td>0.449730</td>\n",
       "      <td>0.367339</td>\n",
       "      <td>-0.380917</td>\n",
       "      <td>-0.118735</td>\n",
       "      <td>0.084634</td>\n",
       "      <td>51.60</td>\n",
       "    </tr>\n",
       "    <tr>\n",
       "      <th>14276</th>\n",
       "      <td>19649</td>\n",
       "      <td>-6.446671</td>\n",
       "      <td>3.659475</td>\n",
       "      <td>-4.911782</td>\n",
       "      <td>1.401546</td>\n",
       "      <td>-3.845502</td>\n",
       "      <td>-1.221395</td>\n",
       "      <td>-2.211515</td>\n",
       "      <td>4.047933</td>\n",
       "      <td>0.756492</td>\n",
       "      <td>...</td>\n",
       "      <td>-0.087022</td>\n",
       "      <td>0.095589</td>\n",
       "      <td>-0.080367</td>\n",
       "      <td>-0.228818</td>\n",
       "      <td>0.292166</td>\n",
       "      <td>-0.294013</td>\n",
       "      <td>-0.448384</td>\n",
       "      <td>0.188717</td>\n",
       "      <td>-0.046614</td>\n",
       "      <td>89.99</td>\n",
       "    </tr>\n",
       "    <tr>\n",
       "      <th>14277</th>\n",
       "      <td>33946</td>\n",
       "      <td>-0.636005</td>\n",
       "      <td>1.705460</td>\n",
       "      <td>1.179507</td>\n",
       "      <td>2.088935</td>\n",
       "      <td>1.030706</td>\n",
       "      <td>1.162806</td>\n",
       "      <td>0.658290</td>\n",
       "      <td>0.056382</td>\n",
       "      <td>-1.140353</td>\n",
       "      <td>...</td>\n",
       "      <td>0.688449</td>\n",
       "      <td>-0.366179</td>\n",
       "      <td>-0.658901</td>\n",
       "      <td>-0.247957</td>\n",
       "      <td>-1.423067</td>\n",
       "      <td>-0.117154</td>\n",
       "      <td>0.028495</td>\n",
       "      <td>0.429521</td>\n",
       "      <td>0.074814</td>\n",
       "      <td>5.52</td>\n",
       "    </tr>\n",
       "    <tr>\n",
       "      <th>14278</th>\n",
       "      <td>38721</td>\n",
       "      <td>0.460469</td>\n",
       "      <td>0.176916</td>\n",
       "      <td>-0.078363</td>\n",
       "      <td>-0.650061</td>\n",
       "      <td>-1.211166</td>\n",
       "      <td>-0.682273</td>\n",
       "      <td>-0.829807</td>\n",
       "      <td>0.467589</td>\n",
       "      <td>-0.687301</td>\n",
       "      <td>...</td>\n",
       "      <td>-0.011232</td>\n",
       "      <td>0.042495</td>\n",
       "      <td>0.001436</td>\n",
       "      <td>0.556212</td>\n",
       "      <td>0.006420</td>\n",
       "      <td>-1.161134</td>\n",
       "      <td>-0.564934</td>\n",
       "      <td>-0.015079</td>\n",
       "      <td>-0.134042</td>\n",
       "      <td>9.99</td>\n",
       "    </tr>\n",
       "    <tr>\n",
       "      <th>14279</th>\n",
       "      <td>47515</td>\n",
       "      <td>-0.385508</td>\n",
       "      <td>1.037231</td>\n",
       "      <td>1.250634</td>\n",
       "      <td>0.018848</td>\n",
       "      <td>0.150593</td>\n",
       "      <td>-0.522848</td>\n",
       "      <td>0.602304</td>\n",
       "      <td>0.099256</td>\n",
       "      <td>-0.306780</td>\n",
       "      <td>...</td>\n",
       "      <td>0.046014</td>\n",
       "      <td>-0.242318</td>\n",
       "      <td>-0.625065</td>\n",
       "      <td>0.026116</td>\n",
       "      <td>0.005735</td>\n",
       "      <td>-0.253624</td>\n",
       "      <td>0.103565</td>\n",
       "      <td>0.257540</td>\n",
       "      <td>0.093632</td>\n",
       "      <td>5.25</td>\n",
       "    </tr>\n",
       "  </tbody>\n",
       "</table>\n",
       "<p>14279 rows × 30 columns</p>\n",
       "</div>"
      ],
      "text/plain": [
       "        Time        V1        V2        V3        V4        V5        V6  \\\n",
       "0      48807 -0.839499  0.916987  1.912416  1.108648 -0.672263  0.051176   \n",
       "1      40941 -1.560421  1.007666  0.799862 -0.456506 -0.595015 -0.582802   \n",
       "2      46525 -0.216150 -2.541602 -0.932535  0.675208 -1.052992 -0.352356   \n",
       "3      42859 -0.543125  0.741029  0.552261  0.749349  0.612035  0.797614   \n",
       "4      44051  0.887965 -1.055805  0.820712 -0.308878 -1.252033  0.150234   \n",
       "...      ...       ...       ...       ...       ...       ...       ...   \n",
       "14275  40270 -1.026431 -0.718597  2.291596 -3.057681 -1.304122 -0.766397   \n",
       "14276  19649 -6.446671  3.659475 -4.911782  1.401546 -3.845502 -1.221395   \n",
       "14277  33946 -0.636005  1.705460  1.179507  2.088935  1.030706  1.162806   \n",
       "14278  38721  0.460469  0.176916 -0.078363 -0.650061 -1.211166 -0.682273   \n",
       "14279  47515 -0.385508  1.037231  1.250634  0.018848  0.150593 -0.522848   \n",
       "\n",
       "             V7        V8        V9  ...       V20       V21       V22  \\\n",
       "0     -0.036875  0.636539  0.050864  ... -0.238961  0.078684  0.414923   \n",
       "1     -0.296379  0.964852 -0.204514  ... -0.167403  0.134970  0.288105   \n",
       "2      1.032765 -0.253473  0.087743  ...  1.429557  0.397866 -0.554943   \n",
       "3      1.120176 -0.073450 -0.644201  ...  0.098120  0.094355  0.352583   \n",
       "4     -0.806711  0.214245  0.742892  ...  0.351202  0.294355  0.414927   \n",
       "...         ...       ...       ...  ...       ...       ...       ...   \n",
       "14275 -0.441554  0.144293 -2.060949  ... -0.548218  0.045393  0.188862   \n",
       "14276 -2.211515  4.047933  0.756492  ... -0.087022  0.095589 -0.080367   \n",
       "14277  0.658290  0.056382 -1.140353  ...  0.688449 -0.366179 -0.658901   \n",
       "14278 -0.829807  0.467589 -0.687301  ... -0.011232  0.042495  0.001436   \n",
       "14279  0.602304  0.099256 -0.306780  ...  0.046014 -0.242318 -0.625065   \n",
       "\n",
       "            V23       V24       V25       V26       V27       V28  Amount  \n",
       "0     -0.085743  0.625238  0.109643 -0.330143 -0.000965  0.003413   15.38  \n",
       "1     -0.154460  0.397320 -0.110161  0.470593 -0.060721  0.014212    1.00  \n",
       "2     -0.808129  0.098446  0.238762  1.014958 -0.251693  0.111646  778.00  \n",
       "3     -0.241595 -1.292714  0.009425 -0.152050  0.091837  0.123704  141.75  \n",
       "4     -0.239961 -0.259445 -0.037567  1.501088 -0.099707  0.030234  191.20  \n",
       "...         ...       ...       ...       ...       ...       ...     ...  \n",
       "14275 -0.223333  0.449730  0.367339 -0.380917 -0.118735  0.084634   51.60  \n",
       "14276 -0.228818  0.292166 -0.294013 -0.448384  0.188717 -0.046614   89.99  \n",
       "14277 -0.247957 -1.423067 -0.117154  0.028495  0.429521  0.074814    5.52  \n",
       "14278  0.556212  0.006420 -1.161134 -0.564934 -0.015079 -0.134042    9.99  \n",
       "14279  0.026116  0.005735 -0.253624  0.103565  0.257540  0.093632    5.25  \n",
       "\n",
       "[14279 rows x 30 columns]"
      ]
     },
     "execution_count": 5,
     "metadata": {},
     "output_type": "execute_result"
    }
   ],
   "source": []
  },
  {
   "cell_type": "code",
   "execution_count": 8,
   "metadata": {},
   "outputs": [
    {
     "name": "stderr",
     "output_type": "stream",
     "text": [
      "C:\\Users\\sharm\\AppData\\Local\\Packages\\PythonSoftwareFoundation.Python.3.11_qbz5n2kfra8p0\\LocalCache\\local-packages\\Python311\\site-packages\\sklearn\\utils\\validation.py:1183: DataConversionWarning: A column-vector y was passed when a 1d array was expected. Please change the shape of y to (n_samples, ), for example using ravel().\n",
      "  y = column_or_1d(y, warn=True)\n",
      "C:\\Users\\sharm\\AppData\\Local\\Packages\\PythonSoftwareFoundation.Python.3.11_qbz5n2kfra8p0\\LocalCache\\local-packages\\Python311\\site-packages\\sklearn\\utils\\validation.py:1183: DataConversionWarning: A column-vector y was passed when a 1d array was expected. Please change the shape of y to (n_samples, ), for example using ravel().\n",
      "  y = column_or_1d(y, warn=True)\n",
      "C:\\Users\\sharm\\AppData\\Local\\Packages\\PythonSoftwareFoundation.Python.3.11_qbz5n2kfra8p0\\LocalCache\\local-packages\\Python311\\site-packages\\sklearn\\utils\\validation.py:1183: DataConversionWarning: A column-vector y was passed when a 1d array was expected. Please change the shape of y to (n_samples, ), for example using ravel().\n",
      "  y = column_or_1d(y, warn=True)\n",
      "C:\\Users\\sharm\\AppData\\Local\\Packages\\PythonSoftwareFoundation.Python.3.11_qbz5n2kfra8p0\\LocalCache\\local-packages\\Python311\\site-packages\\sklearn\\utils\\validation.py:1183: DataConversionWarning: A column-vector y was passed when a 1d array was expected. Please change the shape of y to (n_samples, ), for example using ravel().\n",
      "  y = column_or_1d(y, warn=True)\n",
      "C:\\Users\\sharm\\AppData\\Local\\Packages\\PythonSoftwareFoundation.Python.3.11_qbz5n2kfra8p0\\LocalCache\\local-packages\\Python311\\site-packages\\sklearn\\utils\\validation.py:1183: DataConversionWarning: A column-vector y was passed when a 1d array was expected. Please change the shape of y to (n_samples, ), for example using ravel().\n",
      "  y = column_or_1d(y, warn=True)\n",
      "C:\\Users\\sharm\\AppData\\Local\\Packages\\PythonSoftwareFoundation.Python.3.11_qbz5n2kfra8p0\\LocalCache\\local-packages\\Python311\\site-packages\\sklearn\\utils\\validation.py:1183: DataConversionWarning: A column-vector y was passed when a 1d array was expected. Please change the shape of y to (n_samples, ), for example using ravel().\n",
      "  y = column_or_1d(y, warn=True)\n",
      "C:\\Users\\sharm\\AppData\\Local\\Packages\\PythonSoftwareFoundation.Python.3.11_qbz5n2kfra8p0\\LocalCache\\local-packages\\Python311\\site-packages\\sklearn\\utils\\validation.py:1183: DataConversionWarning: A column-vector y was passed when a 1d array was expected. Please change the shape of y to (n_samples, ), for example using ravel().\n",
      "  y = column_or_1d(y, warn=True)\n",
      "C:\\Users\\sharm\\AppData\\Local\\Packages\\PythonSoftwareFoundation.Python.3.11_qbz5n2kfra8p0\\LocalCache\\local-packages\\Python311\\site-packages\\sklearn\\utils\\validation.py:1183: DataConversionWarning: A column-vector y was passed when a 1d array was expected. Please change the shape of y to (n_samples, ), for example using ravel().\n",
      "  y = column_or_1d(y, warn=True)\n",
      "C:\\Users\\sharm\\AppData\\Local\\Packages\\PythonSoftwareFoundation.Python.3.11_qbz5n2kfra8p0\\LocalCache\\local-packages\\Python311\\site-packages\\sklearn\\utils\\validation.py:1183: DataConversionWarning: A column-vector y was passed when a 1d array was expected. Please change the shape of y to (n_samples, ), for example using ravel().\n",
      "  y = column_or_1d(y, warn=True)\n",
      "C:\\Users\\sharm\\AppData\\Local\\Packages\\PythonSoftwareFoundation.Python.3.11_qbz5n2kfra8p0\\LocalCache\\local-packages\\Python311\\site-packages\\sklearn\\utils\\validation.py:1183: DataConversionWarning: A column-vector y was passed when a 1d array was expected. Please change the shape of y to (n_samples, ), for example using ravel().\n",
      "  y = column_or_1d(y, warn=True)\n"
     ]
    },
    {
     "name": "stdout",
     "output_type": "stream",
     "text": [
      "{}\n",
      "[0. 0. 0. ... 0. 0. 0.]\n"
     ]
    },
    {
     "name": "stderr",
     "output_type": "stream",
     "text": [
      "C:\\Users\\sharm\\AppData\\Local\\Packages\\PythonSoftwareFoundation.Python.3.11_qbz5n2kfra8p0\\LocalCache\\local-packages\\Python311\\site-packages\\sklearn\\utils\\validation.py:1183: DataConversionWarning: A column-vector y was passed when a 1d array was expected. Please change the shape of y to (n_samples, ), for example using ravel().\n",
      "  y = column_or_1d(y, warn=True)\n"
     ]
    }
   ],
   "source": [
    "from sklearn.model_selection import GridSearchCV\n",
    "from sklearn.metrics import f1_score, accuracy_score, recall_score, precision_score, classification_report\n",
    "\n",
    "grid = GridSearchCV(g_NB, g_NB_parameters, scoring='f1_macro', cv = 10 )\n",
    "X1 = X1.dropna()\n",
    "# fitting the model for grid search\n",
    "grid.fit(X_train_rs, y_train_rs)\n",
    "\n",
    "# print best parameter after tuning\n",
    "print(grid.best_params_)\n",
    "grid_predictions = grid.predict(X1)\n",
    "print(grid_predictions)\n",
    "# print classification report\n",
    "# print(classification_report(y_test_rs, grid_predictions))"
   ]
  },
  {
   "cell_type": "markdown",
   "metadata": {},
   "source": [
    "# Feature selection ###"
   ]
  },
  {
   "cell_type": "code",
   "execution_count": 7,
   "metadata": {},
   "outputs": [
    {
     "name": "stderr",
     "output_type": "stream",
     "text": [
      "C:\\Users\\sharm\\AppData\\Local\\Packages\\PythonSoftwareFoundation.Python.3.11_qbz5n2kfra8p0\\LocalCache\\local-packages\\Python311\\site-packages\\sklearn\\utils\\validation.py:1183: DataConversionWarning: A column-vector y was passed when a 1d array was expected. Please change the shape of y to (n_samples, ), for example using ravel().\n",
      "  y = column_or_1d(y, warn=True)\n"
     ]
    },
    {
     "name": "stdout",
     "output_type": "stream",
     "text": [
      "[0.24974955 0.25423044 0.25769693 0.2601009  0.26428704 0.25676883\n",
      " 0.25626762 0.26103921 0.25425685 0.26360023 0.26888266 0.26877394\n",
      " 0.27095616 0.24906749 0.27132433 0.24976756 0.26732259 0.27245274\n",
      " 0.26511749 0.25576793 0.25040564 0.25431349 0.25033172 0.24988304\n",
      " 0.24917854 0.25108502 0.2503933  0.25442601 0.25183202 0.1937974 ]\n",
      "\n"
     ]
    },
    {
     "data": {
      "text/plain": [
       "<Axes: >"
      ]
     },
     "execution_count": 7,
     "metadata": {},
     "output_type": "execute_result"
    },
    {
     "data": {
      "image/png": "[encoded data removed]",
      "text/plain": [
       "<Figure size 2000x800 with 1 Axes>"
      ]
     },
     "metadata": {},
     "output_type": "display_data"
    }
   ],
   "source": [
    "import pandas as pd\n",
    "from sklearn.feature_selection import mutual_info_classif\n",
    "m_rs = mutual_info_classif(X_train_rs, y_train_rs)\n",
    "print(m_rs)\n",
    "print()\n",
    "\n",
    "m_rs = pd.Series(m_rs)\n",
    "\n",
    "m_rs.index = X_train_rs.columns\n",
    "m_rs.sort_values(ascending= False)\n",
    "m_rs.sort_values(ascending= False).plot.bar(figsize=(20,8))\n"
   ]
  },
  {
   "cell_type": "markdown",
   "metadata": {},
   "source": [
    "# Selecting KBest"
   ]
  },
  {
   "cell_type": "code",
   "execution_count": 8,
   "metadata": {},
   "outputs": [
    {
     "name": "stderr",
     "output_type": "stream",
     "text": [
      "C:\\Users\\sharm\\AppData\\Local\\Packages\\PythonSoftwareFoundation.Python.3.11_qbz5n2kfra8p0\\LocalCache\\local-packages\\Python311\\site-packages\\sklearn\\utils\\validation.py:1183: DataConversionWarning: A column-vector y was passed when a 1d array was expected. Please change the shape of y to (n_samples, ), for example using ravel().\n",
      "  y = column_or_1d(y, warn=True)\n"
     ]
    }
   ],
   "source": [
    "from sklearn.feature_selection import SelectKBest\n",
    "k_best = 29\n",
    "mi_selector = SelectKBest(mutual_info_classif, k = k_best)\n",
    "X_train_selected_rs = mi_selector.fit_transform(X_train_rs, y_train_rs)\n",
    "X_test_selected_rs = mi_selector.transform(X_test_rs)\n"
   ]
  },
  {
   "cell_type": "code",
   "execution_count": 9,
   "metadata": {},
   "outputs": [
    {
     "name": "stderr",
     "output_type": "stream",
     "text": [
      "C:\\Users\\sharm\\AppData\\Local\\Packages\\PythonSoftwareFoundation.Python.3.11_qbz5n2kfra8p0\\LocalCache\\local-packages\\Python311\\site-packages\\sklearn\\utils\\validation.py:1183: DataConversionWarning: A column-vector y was passed when a 1d array was expected. Please change the shape of y to (n_samples, ), for example using ravel().\n",
      "  y = column_or_1d(y, warn=True)\n",
      "C:\\Users\\sharm\\AppData\\Local\\Packages\\PythonSoftwareFoundation.Python.3.11_qbz5n2kfra8p0\\LocalCache\\local-packages\\Python311\\site-packages\\sklearn\\utils\\validation.py:1183: DataConversionWarning: A column-vector y was passed when a 1d array was expected. Please change the shape of y to (n_samples, ), for example using ravel().\n",
      "  y = column_or_1d(y, warn=True)\n",
      "C:\\Users\\sharm\\AppData\\Local\\Packages\\PythonSoftwareFoundation.Python.3.11_qbz5n2kfra8p0\\LocalCache\\local-packages\\Python311\\site-packages\\sklearn\\utils\\validation.py:1183: DataConversionWarning: A column-vector y was passed when a 1d array was expected. Please change the shape of y to (n_samples, ), for example using ravel().\n",
      "  y = column_or_1d(y, warn=True)\n",
      "C:\\Users\\sharm\\AppData\\Local\\Packages\\PythonSoftwareFoundation.Python.3.11_qbz5n2kfra8p0\\LocalCache\\local-packages\\Python311\\site-packages\\sklearn\\utils\\validation.py:1183: DataConversionWarning: A column-vector y was passed when a 1d array was expected. Please change the shape of y to (n_samples, ), for example using ravel().\n",
      "  y = column_or_1d(y, warn=True)\n",
      "C:\\Users\\sharm\\AppData\\Local\\Packages\\PythonSoftwareFoundation.Python.3.11_qbz5n2kfra8p0\\LocalCache\\local-packages\\Python311\\site-packages\\sklearn\\utils\\validation.py:1183: DataConversionWarning: A column-vector y was passed when a 1d array was expected. Please change the shape of y to (n_samples, ), for example using ravel().\n",
      "  y = column_or_1d(y, warn=True)\n",
      "C:\\Users\\sharm\\AppData\\Local\\Packages\\PythonSoftwareFoundation.Python.3.11_qbz5n2kfra8p0\\LocalCache\\local-packages\\Python311\\site-packages\\sklearn\\utils\\validation.py:1183: DataConversionWarning: A column-vector y was passed when a 1d array was expected. Please change the shape of y to (n_samples, ), for example using ravel().\n",
      "  y = column_or_1d(y, warn=True)\n",
      "C:\\Users\\sharm\\AppData\\Local\\Packages\\PythonSoftwareFoundation.Python.3.11_qbz5n2kfra8p0\\LocalCache\\local-packages\\Python311\\site-packages\\sklearn\\utils\\validation.py:1183: DataConversionWarning: A column-vector y was passed when a 1d array was expected. Please change the shape of y to (n_samples, ), for example using ravel().\n",
      "  y = column_or_1d(y, warn=True)\n",
      "C:\\Users\\sharm\\AppData\\Local\\Packages\\PythonSoftwareFoundation.Python.3.11_qbz5n2kfra8p0\\LocalCache\\local-packages\\Python311\\site-packages\\sklearn\\utils\\validation.py:1183: DataConversionWarning: A column-vector y was passed when a 1d array was expected. Please change the shape of y to (n_samples, ), for example using ravel().\n",
      "  y = column_or_1d(y, warn=True)\n",
      "C:\\Users\\sharm\\AppData\\Local\\Packages\\PythonSoftwareFoundation.Python.3.11_qbz5n2kfra8p0\\LocalCache\\local-packages\\Python311\\site-packages\\sklearn\\utils\\validation.py:1183: DataConversionWarning: A column-vector y was passed when a 1d array was expected. Please change the shape of y to (n_samples, ), for example using ravel().\n",
      "  y = column_or_1d(y, warn=True)\n",
      "C:\\Users\\sharm\\AppData\\Local\\Packages\\PythonSoftwareFoundation.Python.3.11_qbz5n2kfra8p0\\LocalCache\\local-packages\\Python311\\site-packages\\sklearn\\utils\\validation.py:1183: DataConversionWarning: A column-vector y was passed when a 1d array was expected. Please change the shape of y to (n_samples, ), for example using ravel().\n",
      "  y = column_or_1d(y, warn=True)\n",
      "C:\\Users\\sharm\\AppData\\Local\\Packages\\PythonSoftwareFoundation.Python.3.11_qbz5n2kfra8p0\\LocalCache\\local-packages\\Python311\\site-packages\\sklearn\\utils\\validation.py:1183: DataConversionWarning: A column-vector y was passed when a 1d array was expected. Please change the shape of y to (n_samples, ), for example using ravel().\n",
      "  y = column_or_1d(y, warn=True)\n"
     ]
    },
    {
     "name": "stdout",
     "output_type": "stream",
     "text": [
      "{}\n",
      "              precision    recall  f1-score   support\n",
      "\n",
      "         0.0       0.99      0.98      0.99     16003\n",
      "         1.0       0.83      0.88      0.85      1397\n",
      "\n",
      "    accuracy                           0.98     17400\n",
      "   macro avg       0.91      0.93      0.92     17400\n",
      "weighted avg       0.98      0.98      0.98     17400\n",
      "\n"
     ]
    }
   ],
   "source": [
    "from sklearn.model_selection import GridSearchCV\n",
    "from sklearn.metrics import f1_score, accuracy_score, recall_score, precision_score, classification_report\n",
    "\n",
    "grid = GridSearchCV(g_NB, g_NB_parameters, scoring='f1_macro', cv =10)\n",
    "\n",
    "# fitting the model for grid search\n",
    "grid.fit(X_train_selected_rs, y_train_rs)\n",
    "\n",
    "# print best parameter after tuning\n",
    "print(grid.best_params_)\n",
    "grid_predictions = grid.predict(X_test_selected_rs)\n",
    "\n",
    "# print classification report\n",
    "print(classification_report(y_test_rs, grid_predictions))"
   ]
  },
  {
   "cell_type": "markdown",
   "metadata": {},
   "source": [
    "# Feature Selection for Gaussian NB"
   ]
  },
  {
   "cell_type": "code",
   "execution_count": 10,
   "metadata": {},
   "outputs": [
    {
     "name": "stderr",
     "output_type": "stream",
     "text": [
      "C:\\Users\\sharm\\AppData\\Local\\Packages\\PythonSoftwareFoundation.Python.3.11_qbz5n2kfra8p0\\LocalCache\\local-packages\\Python311\\site-packages\\sklearn\\utils\\validation.py:1183: DataConversionWarning: A column-vector y was passed when a 1d array was expected. Please change the shape of y to (n_samples, ), for example using ravel().\n",
      "  y = column_or_1d(y, warn=True)\n"
     ]
    },
    {
     "data": {
      "text/plain": [
       "<Axes: >"
      ]
     },
     "execution_count": 10,
     "metadata": {},
     "output_type": "execute_result"
    },
    {
     "data": {
      "image/png": "[encoded data removed]",
      "text/plain": [
       "<Figure size 2000x800 with 1 Axes>"
      ]
     },
     "metadata": {},
     "output_type": "display_data"
    }
   ],
   "source": [
    "from sklearn.inspection import permutation_importance\n",
    "g_NB.fit(X_train_rs, y_train_rs)\n",
    "\n",
    "imps = permutation_importance(g_NB, X_test_rs, y_test_rs)\n",
    "absolute_importances_rs = np.abs(imps.importances_mean)\n",
    "absolute_importances_rs = pd.Series(imps.importances_mean, index = X_test_rs.columns)\n",
    "absolute_importances_rs.sort_values(ascending = False).plot.bar(figsize = (20,8))"
   ]
  },
  {
   "cell_type": "markdown",
   "metadata": {},
   "source": [
    "#  Selecting KBest for Gaussian NB"
   ]
  },
  {
   "cell_type": "code",
   "execution_count": 15,
   "metadata": {},
   "outputs": [
    {
     "name": "stdout",
     "output_type": "stream",
     "text": [
      "Index(['V17', 'V14', 'V3', 'V7', 'V12', 'V10', 'V16', 'V1', 'V5', 'V8', 'V18',\n",
      "       'V11', 'V2'],\n",
      "      dtype='object')\n"
     ]
    }
   ],
   "source": [
    "k = 13\n",
    "top_k_features = absolute_importances_rs.nlargest(k).index\n",
    "\n",
    "print(top_k_features)\n",
    "\n",
    "X_train_selected_rs_1 = X_train_rs[top_k_features]\n",
    "X_test_selected_rs_1 = X_test_rs[top_k_features]\n"
   ]
  },
  {
   "cell_type": "code",
   "execution_count": 16,
   "metadata": {},
   "outputs": [
    {
     "name": "stderr",
     "output_type": "stream",
     "text": [
      "C:\\Users\\sharm\\AppData\\Local\\Packages\\PythonSoftwareFoundation.Python.3.11_qbz5n2kfra8p0\\LocalCache\\local-packages\\Python311\\site-packages\\sklearn\\utils\\validation.py:1183: DataConversionWarning: A column-vector y was passed when a 1d array was expected. Please change the shape of y to (n_samples, ), for example using ravel().\n",
      "  y = column_or_1d(y, warn=True)\n",
      "C:\\Users\\sharm\\AppData\\Local\\Packages\\PythonSoftwareFoundation.Python.3.11_qbz5n2kfra8p0\\LocalCache\\local-packages\\Python311\\site-packages\\sklearn\\utils\\validation.py:1183: DataConversionWarning: A column-vector y was passed when a 1d array was expected. Please change the shape of y to (n_samples, ), for example using ravel().\n",
      "  y = column_or_1d(y, warn=True)\n",
      "C:\\Users\\sharm\\AppData\\Local\\Packages\\PythonSoftwareFoundation.Python.3.11_qbz5n2kfra8p0\\LocalCache\\local-packages\\Python311\\site-packages\\sklearn\\utils\\validation.py:1183: DataConversionWarning: A column-vector y was passed when a 1d array was expected. Please change the shape of y to (n_samples, ), for example using ravel().\n",
      "  y = column_or_1d(y, warn=True)\n",
      "C:\\Users\\sharm\\AppData\\Local\\Packages\\PythonSoftwareFoundation.Python.3.11_qbz5n2kfra8p0\\LocalCache\\local-packages\\Python311\\site-packages\\sklearn\\utils\\validation.py:1183: DataConversionWarning: A column-vector y was passed when a 1d array was expected. Please change the shape of y to (n_samples, ), for example using ravel().\n",
      "  y = column_or_1d(y, warn=True)\n",
      "C:\\Users\\sharm\\AppData\\Local\\Packages\\PythonSoftwareFoundation.Python.3.11_qbz5n2kfra8p0\\LocalCache\\local-packages\\Python311\\site-packages\\sklearn\\utils\\validation.py:1183: DataConversionWarning: A column-vector y was passed when a 1d array was expected. Please change the shape of y to (n_samples, ), for example using ravel().\n",
      "  y = column_or_1d(y, warn=True)\n",
      "C:\\Users\\sharm\\AppData\\Local\\Packages\\PythonSoftwareFoundation.Python.3.11_qbz5n2kfra8p0\\LocalCache\\local-packages\\Python311\\site-packages\\sklearn\\utils\\validation.py:1183: DataConversionWarning: A column-vector y was passed when a 1d array was expected. Please change the shape of y to (n_samples, ), for example using ravel().\n",
      "  y = column_or_1d(y, warn=True)\n"
     ]
    },
    {
     "name": "stdout",
     "output_type": "stream",
     "text": [
      "{}\n",
      "              precision    recall  f1-score   support\n",
      "\n",
      "         0.0       0.99      0.98      0.99     16003\n",
      "         1.0       0.83      0.89      0.86      1397\n",
      "\n",
      "    accuracy                           0.98     17400\n",
      "   macro avg       0.91      0.94      0.92     17400\n",
      "weighted avg       0.98      0.98      0.98     17400\n",
      "\n"
     ]
    }
   ],
   "source": [
    "from sklearn.model_selection import GridSearchCV\n",
    "from sklearn.metrics import f1_score, accuracy_score, recall_score, precision_score, classification_report\n",
    "\n",
    "grid = GridSearchCV(g_NB, g_NB_parameters, scoring='f1_macro', cv =5)\n",
    "\n",
    "# fitting the model for grid search\n",
    "grid.fit(X_train_selected_rs_1, y_train_rs)\n",
    "\n",
    "# print best parameter after tuning\n",
    "print(grid.best_params_)\n",
    "grid_predictions = grid.predict(X_test_selected_rs_1)\n",
    "\n",
    "# print classification report\n",
    "print(classification_report(y_test_rs, grid_predictions))"
   ]
  },
  {
   "cell_type": "markdown",
   "metadata": {},
   "source": [
    "# **SMOTETomek** "
   ]
  },
  {
   "cell_type": "code",
   "execution_count": 3,
   "metadata": {},
   "outputs": [],
   "source": [
    "from imblearn.combine import SMOTETomek\n",
    "smto = SMOTETomek()\n",
    "X_smto, y_smto = smto.fit_resample(X, y)\n",
    "\n",
    "from sklearn.model_selection import train_test_split\n",
    "X_train_smto, X_test_smto, y_train_smto, y_test_smto = train_test_split(X_smto, y_smto, test_size = 0.2, random_state = 40)"
   ]
  },
  {
   "cell_type": "code",
   "execution_count": 23,
   "metadata": {},
   "outputs": [
    {
     "name": "stderr",
     "output_type": "stream",
     "text": [
      "C:\\Users\\sharm\\AppData\\Local\\Packages\\PythonSoftwareFoundation.Python.3.11_qbz5n2kfra8p0\\LocalCache\\local-packages\\Python311\\site-packages\\sklearn\\utils\\validation.py:1183: DataConversionWarning: A column-vector y was passed when a 1d array was expected. Please change the shape of y to (n_samples, ), for example using ravel().\n",
      "  y = column_or_1d(y, warn=True)\n",
      "C:\\Users\\sharm\\AppData\\Local\\Packages\\PythonSoftwareFoundation.Python.3.11_qbz5n2kfra8p0\\LocalCache\\local-packages\\Python311\\site-packages\\sklearn\\utils\\validation.py:1183: DataConversionWarning: A column-vector y was passed when a 1d array was expected. Please change the shape of y to (n_samples, ), for example using ravel().\n",
      "  y = column_or_1d(y, warn=True)\n",
      "C:\\Users\\sharm\\AppData\\Local\\Packages\\PythonSoftwareFoundation.Python.3.11_qbz5n2kfra8p0\\LocalCache\\local-packages\\Python311\\site-packages\\sklearn\\utils\\validation.py:1183: DataConversionWarning: A column-vector y was passed when a 1d array was expected. Please change the shape of y to (n_samples, ), for example using ravel().\n",
      "  y = column_or_1d(y, warn=True)\n",
      "C:\\Users\\sharm\\AppData\\Local\\Packages\\PythonSoftwareFoundation.Python.3.11_qbz5n2kfra8p0\\LocalCache\\local-packages\\Python311\\site-packages\\sklearn\\utils\\validation.py:1183: DataConversionWarning: A column-vector y was passed when a 1d array was expected. Please change the shape of y to (n_samples, ), for example using ravel().\n",
      "  y = column_or_1d(y, warn=True)\n",
      "C:\\Users\\sharm\\AppData\\Local\\Packages\\PythonSoftwareFoundation.Python.3.11_qbz5n2kfra8p0\\LocalCache\\local-packages\\Python311\\site-packages\\sklearn\\utils\\validation.py:1183: DataConversionWarning: A column-vector y was passed when a 1d array was expected. Please change the shape of y to (n_samples, ), for example using ravel().\n",
      "  y = column_or_1d(y, warn=True)\n",
      "C:\\Users\\sharm\\AppData\\Local\\Packages\\PythonSoftwareFoundation.Python.3.11_qbz5n2kfra8p0\\LocalCache\\local-packages\\Python311\\site-packages\\sklearn\\utils\\validation.py:1183: DataConversionWarning: A column-vector y was passed when a 1d array was expected. Please change the shape of y to (n_samples, ), for example using ravel().\n",
      "  y = column_or_1d(y, warn=True)\n"
     ]
    },
    {
     "name": "stdout",
     "output_type": "stream",
     "text": [
      "{}\n",
      "              precision    recall  f1-score   support\n",
      "\n",
      "         0.0       0.90      0.99      0.94     11408\n",
      "         1.0       0.98      0.90      0.94     11341\n",
      "\n",
      "    accuracy                           0.94     22749\n",
      "   macro avg       0.94      0.94      0.94     22749\n",
      "weighted avg       0.94      0.94      0.94     22749\n",
      "\n"
     ]
    }
   ],
   "source": [
    "from sklearn.model_selection import GridSearchCV\n",
    "from sklearn.metrics import f1_score, accuracy_score, recall_score, precision_score, classification_report\n",
    "\n",
    "grid = GridSearchCV(g_NB, g_NB_parameters, scoring='f1_macro', cv =5)\n",
    "\n",
    "# fitting the model for grid search\n",
    "grid.fit(X_train_smto, y_train_smto)\n",
    "\n",
    "# print best parameter after tuning\n",
    "print(grid.best_params_)\n",
    "grid_predictions = grid.predict(X_test_smto)\n",
    "\n",
    "# print classification report\n",
    "print(classification_report(y_test_smto, grid_predictions))"
   ]
  },
  {
   "cell_type": "markdown",
   "metadata": {},
   "source": [
    "# Feature selection ###"
   ]
  },
  {
   "cell_type": "code",
   "execution_count": 24,
   "metadata": {},
   "outputs": [
    {
     "name": "stderr",
     "output_type": "stream",
     "text": [
      "C:\\Users\\sharm\\AppData\\Local\\Packages\\PythonSoftwareFoundation.Python.3.11_qbz5n2kfra8p0\\LocalCache\\local-packages\\Python311\\site-packages\\sklearn\\utils\\validation.py:1183: DataConversionWarning: A column-vector y was passed when a 1d array was expected. Please change the shape of y to (n_samples, ), for example using ravel().\n",
      "  y = column_or_1d(y, warn=True)\n"
     ]
    },
    {
     "name": "stdout",
     "output_type": "stream",
     "text": [
      "[0.30898321 0.30386481 0.42266702 0.49501118 0.51894836 0.25539451\n",
      " 0.37196798 0.39982684 0.24182298 0.35585041 0.52711152 0.4971586\n",
      " 0.5226941  0.05064744 0.5766003  0.05577502 0.41924278 0.48165053\n",
      " 0.29647033 0.13709334 0.17777323 0.34214911 0.03853673 0.11036791\n",
      " 0.10331911 0.09476624 0.17208423 0.31442254 0.27494633 0.31112789]\n",
      "\n"
     ]
    },
    {
     "data": {
      "text/plain": [
       "<Axes: >"
      ]
     },
     "execution_count": 24,
     "metadata": {},
     "output_type": "execute_result"
    },
    {
     "data": {
      "image/png": "[encoded data removed]",
      "text/plain": [
       "<Figure size 2000x800 with 1 Axes>"
      ]
     },
     "metadata": {},
     "output_type": "display_data"
    }
   ],
   "source": [
    "import pandas as pd\n",
    "from sklearn.feature_selection import mutual_info_classif\n",
    "m_smto = mutual_info_classif(X_train_smto, y_train_smto)\n",
    "print(m_smto)\n",
    "print()\n",
    "\n",
    "m_smto = pd.Series(m_smto)\n",
    "\n",
    "m_smto.index = X_train_smto.columns\n",
    "m_smto.sort_values(ascending= False)\n",
    "m_smto.sort_values(ascending= False).plot.bar(figsize=(20,8))\n"
   ]
  },
  {
   "cell_type": "markdown",
   "metadata": {},
   "source": [
    "# Selecting KBest"
   ]
  },
  {
   "cell_type": "code",
   "execution_count": 26,
   "metadata": {},
   "outputs": [
    {
     "name": "stderr",
     "output_type": "stream",
     "text": [
      "C:\\Users\\sharm\\AppData\\Local\\Packages\\PythonSoftwareFoundation.Python.3.11_qbz5n2kfra8p0\\LocalCache\\local-packages\\Python311\\site-packages\\sklearn\\utils\\validation.py:1183: DataConversionWarning: A column-vector y was passed when a 1d array was expected. Please change the shape of y to (n_samples, ), for example using ravel().\n",
      "  y = column_or_1d(y, warn=True)\n"
     ]
    }
   ],
   "source": [
    "from sklearn.feature_selection import SelectKBest\n",
    "k_best = 27\n",
    "mi_selector = SelectKBest(mutual_info_classif, k = k_best)\n",
    "X_train_selected_smto = mi_selector.fit_transform(X_train_smto, y_train_smto)\n",
    "X_test_selected_smto = mi_selector.transform(X_test_smto)\n"
   ]
  },
  {
   "cell_type": "code",
   "execution_count": 27,
   "metadata": {},
   "outputs": [
    {
     "name": "stderr",
     "output_type": "stream",
     "text": [
      "C:\\Users\\sharm\\AppData\\Local\\Packages\\PythonSoftwareFoundation.Python.3.11_qbz5n2kfra8p0\\LocalCache\\local-packages\\Python311\\site-packages\\sklearn\\utils\\validation.py:1183: DataConversionWarning: A column-vector y was passed when a 1d array was expected. Please change the shape of y to (n_samples, ), for example using ravel().\n",
      "  y = column_or_1d(y, warn=True)\n",
      "C:\\Users\\sharm\\AppData\\Local\\Packages\\PythonSoftwareFoundation.Python.3.11_qbz5n2kfra8p0\\LocalCache\\local-packages\\Python311\\site-packages\\sklearn\\utils\\validation.py:1183: DataConversionWarning: A column-vector y was passed when a 1d array was expected. Please change the shape of y to (n_samples, ), for example using ravel().\n",
      "  y = column_or_1d(y, warn=True)\n",
      "C:\\Users\\sharm\\AppData\\Local\\Packages\\PythonSoftwareFoundation.Python.3.11_qbz5n2kfra8p0\\LocalCache\\local-packages\\Python311\\site-packages\\sklearn\\utils\\validation.py:1183: DataConversionWarning: A column-vector y was passed when a 1d array was expected. Please change the shape of y to (n_samples, ), for example using ravel().\n",
      "  y = column_or_1d(y, warn=True)\n",
      "C:\\Users\\sharm\\AppData\\Local\\Packages\\PythonSoftwareFoundation.Python.3.11_qbz5n2kfra8p0\\LocalCache\\local-packages\\Python311\\site-packages\\sklearn\\utils\\validation.py:1183: DataConversionWarning: A column-vector y was passed when a 1d array was expected. Please change the shape of y to (n_samples, ), for example using ravel().\n",
      "  y = column_or_1d(y, warn=True)\n",
      "C:\\Users\\sharm\\AppData\\Local\\Packages\\PythonSoftwareFoundation.Python.3.11_qbz5n2kfra8p0\\LocalCache\\local-packages\\Python311\\site-packages\\sklearn\\utils\\validation.py:1183: DataConversionWarning: A column-vector y was passed when a 1d array was expected. Please change the shape of y to (n_samples, ), for example using ravel().\n",
      "  y = column_or_1d(y, warn=True)\n",
      "C:\\Users\\sharm\\AppData\\Local\\Packages\\PythonSoftwareFoundation.Python.3.11_qbz5n2kfra8p0\\LocalCache\\local-packages\\Python311\\site-packages\\sklearn\\utils\\validation.py:1183: DataConversionWarning: A column-vector y was passed when a 1d array was expected. Please change the shape of y to (n_samples, ), for example using ravel().\n",
      "  y = column_or_1d(y, warn=True)\n"
     ]
    },
    {
     "name": "stdout",
     "output_type": "stream",
     "text": [
      "{}\n",
      "              precision    recall  f1-score   support\n",
      "\n",
      "         0.0       0.90      0.99      0.94     11408\n",
      "         1.0       0.98      0.90      0.94     11341\n",
      "\n",
      "    accuracy                           0.94     22749\n",
      "   macro avg       0.94      0.94      0.94     22749\n",
      "weighted avg       0.94      0.94      0.94     22749\n",
      "\n"
     ]
    }
   ],
   "source": [
    "from sklearn.model_selection import GridSearchCV\n",
    "from sklearn.metrics import f1_score, accuracy_score, recall_score, precision_score, classification_report\n",
    "\n",
    "grid = GridSearchCV(g_NB, g_NB_parameters, scoring='f1_macro', cv =5)\n",
    "\n",
    "# fitting the model for grid search\n",
    "grid.fit(X_train_selected_smto, y_train_smto)\n",
    "\n",
    "# print best parameter after tuning\n",
    "print(grid.best_params_)\n",
    "grid_predictions = grid.predict(X_test_selected_smto)\n",
    "\n",
    "# print classification report\n",
    "print(classification_report(y_test_smto, grid_predictions))"
   ]
  },
  {
   "cell_type": "markdown",
   "metadata": {},
   "source": [
    "# Feature Selection for Gaussian NB"
   ]
  },
  {
   "cell_type": "code",
   "execution_count": 4,
   "metadata": {},
   "outputs": [
    {
     "name": "stderr",
     "output_type": "stream",
     "text": [
      "C:\\Users\\sharm\\AppData\\Local\\Packages\\PythonSoftwareFoundation.Python.3.11_qbz5n2kfra8p0\\LocalCache\\local-packages\\Python311\\site-packages\\sklearn\\utils\\validation.py:1183: DataConversionWarning: A column-vector y was passed when a 1d array was expected. Please change the shape of y to (n_samples, ), for example using ravel().\n",
      "  y = column_or_1d(y, warn=True)\n"
     ]
    },
    {
     "data": {
      "text/plain": [
       "<Axes: >"
      ]
     },
     "execution_count": 4,
     "metadata": {},
     "output_type": "execute_result"
    },
    {
     "data": {
      "image/png": "[encoded data removed]",
      "text/plain": [
       "<Figure size 2000x800 with 1 Axes>"
      ]
     },
     "metadata": {},
     "output_type": "display_data"
    }
   ],
   "source": [
    "from sklearn.inspection import permutation_importance\n",
    "g_NB.fit(X_train_smto, y_train_smto)\n",
    "\n",
    "imps = permutation_importance(g_NB, X_test_smto, y_test_smto)\n",
    "absolute_importances_smto = np.abs(imps.importances_mean)\n",
    "absolute_importances_smto = pd.Series(imps.importances_mean, index = X_test_rs.columns)\n",
    "absolute_importances_smto.sort_values(ascending = False).plot.bar(figsize = (20,8))"
   ]
  },
  {
   "cell_type": "markdown",
   "metadata": {},
   "source": [
    "# Selecting KBest for Gaussian NB\n",
    "# **BEST**"
   ]
  },
  {
   "cell_type": "code",
   "execution_count": 5,
   "metadata": {},
   "outputs": [
    {
     "name": "stdout",
     "output_type": "stream",
     "text": [
      "Index(['V17', 'V14', 'V3', 'V7', 'V12', 'V10', 'V16', 'V1', 'V5', 'V8', 'V18',\n",
      "       'V11', 'V2'],\n",
      "      dtype='object')\n"
     ]
    }
   ],
   "source": [
    "k = 13\n",
    "top_k_features = absolute_importances_smto.nlargest(k).index\n",
    "\n",
    "print(top_k_features)\n",
    "\n",
    "X_train_selected_smto_1 = X_train_smto[top_k_features]\n",
    "X_test_selected_smto_1 = X_test_smto[top_k_features]\n"
   ]
  },
  {
   "cell_type": "code",
   "execution_count": 6,
   "metadata": {},
   "outputs": [
    {
     "name": "stderr",
     "output_type": "stream",
     "text": [
      "C:\\Users\\sharm\\AppData\\Local\\Packages\\PythonSoftwareFoundation.Python.3.11_qbz5n2kfra8p0\\LocalCache\\local-packages\\Python311\\site-packages\\sklearn\\utils\\validation.py:1183: DataConversionWarning: A column-vector y was passed when a 1d array was expected. Please change the shape of y to (n_samples, ), for example using ravel().\n",
      "  y = column_or_1d(y, warn=True)\n",
      "C:\\Users\\sharm\\AppData\\Local\\Packages\\PythonSoftwareFoundation.Python.3.11_qbz5n2kfra8p0\\LocalCache\\local-packages\\Python311\\site-packages\\sklearn\\utils\\validation.py:1183: DataConversionWarning: A column-vector y was passed when a 1d array was expected. Please change the shape of y to (n_samples, ), for example using ravel().\n",
      "  y = column_or_1d(y, warn=True)\n",
      "C:\\Users\\sharm\\AppData\\Local\\Packages\\PythonSoftwareFoundation.Python.3.11_qbz5n2kfra8p0\\LocalCache\\local-packages\\Python311\\site-packages\\sklearn\\utils\\validation.py:1183: DataConversionWarning: A column-vector y was passed when a 1d array was expected. Please change the shape of y to (n_samples, ), for example using ravel().\n",
      "  y = column_or_1d(y, warn=True)\n",
      "C:\\Users\\sharm\\AppData\\Local\\Packages\\PythonSoftwareFoundation.Python.3.11_qbz5n2kfra8p0\\LocalCache\\local-packages\\Python311\\site-packages\\sklearn\\utils\\validation.py:1183: DataConversionWarning: A column-vector y was passed when a 1d array was expected. Please change the shape of y to (n_samples, ), for example using ravel().\n",
      "  y = column_or_1d(y, warn=True)\n",
      "C:\\Users\\sharm\\AppData\\Local\\Packages\\PythonSoftwareFoundation.Python.3.11_qbz5n2kfra8p0\\LocalCache\\local-packages\\Python311\\site-packages\\sklearn\\utils\\validation.py:1183: DataConversionWarning: A column-vector y was passed when a 1d array was expected. Please change the shape of y to (n_samples, ), for example using ravel().\n",
      "  y = column_or_1d(y, warn=True)\n",
      "C:\\Users\\sharm\\AppData\\Local\\Packages\\PythonSoftwareFoundation.Python.3.11_qbz5n2kfra8p0\\LocalCache\\local-packages\\Python311\\site-packages\\sklearn\\utils\\validation.py:1183: DataConversionWarning: A column-vector y was passed when a 1d array was expected. Please change the shape of y to (n_samples, ), for example using ravel().\n",
      "  y = column_or_1d(y, warn=True)\n"
     ]
    },
    {
     "name": "stdout",
     "output_type": "stream",
     "text": [
      "{}\n",
      "[[11192   209]\n",
      " [ 1124 10216]]\n",
      "              precision    recall  f1-score   support\n",
      "\n",
      "         0.0       0.91      0.98      0.94     11401\n",
      "         1.0       0.98      0.90      0.94     11340\n",
      "\n",
      "    accuracy                           0.94     22741\n",
      "   macro avg       0.94      0.94      0.94     22741\n",
      "weighted avg       0.94      0.94      0.94     22741\n",
      "\n"
     ]
    }
   ],
   "source": [
    "from sklearn.model_selection import GridSearchCV\n",
    "from sklearn.metrics import f1_score, accuracy_score, recall_score, precision_score, classification_report, confusion_matrix\n",
    "\n",
    "grid = GridSearchCV(g_NB, g_NB_parameters, scoring='f1_macro', cv =5)\n",
    "\n",
    "# fitting the model for grid search\n",
    "grid.fit(X_train_selected_smto_1, y_train_smto)\n",
    "\n",
    "# print best parameter after tuning\n",
    "print(grid.best_params_)\n",
    "grid_predictions = grid.predict(X_test_selected_smto_1)\n",
    "\n",
    "# print confusion matrix\n",
    "print(confusion_matrix(y_test_smto, grid_predictions))\n",
    "\n",
    "# print classification report\n",
    "print(classification_report(y_test_smto, grid_predictions))"
   ]
  },
  {
   "cell_type": "markdown",
   "metadata": {},
   "source": [
    "# **SMOTE + TOMEKLinks**"
   ]
  },
  {
   "cell_type": "code",
   "execution_count": 32,
   "metadata": {},
   "outputs": [],
   "source": [
    "from imblearn.over_sampling import SMOTE\n",
    "desired_counts = {0:57000, 1: 5500}\n",
    "smot = SMOTE(sampling_strategy=desired_counts, random_state=40)\n",
    "X_smot, y_smot =smot.fit_resample(X, y)\n",
    "\n",
    "from imblearn.under_sampling import TomekLinks\n",
    "\n",
    "tomek_links = TomekLinks()\n",
    "X_smotu, y_smotu = tomek_links.fit_resample(X_smot, y_smot)\n",
    "\n",
    "from sklearn.model_selection import train_test_split\n",
    "X_train_smotu, X_test_smotu, y_train_smotu, y_test_smotu = train_test_split(X_smotu, y_smotu, test_size = 0.3, random_state = 40)"
   ]
  },
  {
   "cell_type": "code",
   "execution_count": 33,
   "metadata": {},
   "outputs": [
    {
     "name": "stderr",
     "output_type": "stream",
     "text": [
      "C:\\Users\\sharm\\AppData\\Local\\Packages\\PythonSoftwareFoundation.Python.3.11_qbz5n2kfra8p0\\LocalCache\\local-packages\\Python311\\site-packages\\sklearn\\utils\\validation.py:1183: DataConversionWarning: A column-vector y was passed when a 1d array was expected. Please change the shape of y to (n_samples, ), for example using ravel().\n",
      "  y = column_or_1d(y, warn=True)\n",
      "C:\\Users\\sharm\\AppData\\Local\\Packages\\PythonSoftwareFoundation.Python.3.11_qbz5n2kfra8p0\\LocalCache\\local-packages\\Python311\\site-packages\\sklearn\\utils\\validation.py:1183: DataConversionWarning: A column-vector y was passed when a 1d array was expected. Please change the shape of y to (n_samples, ), for example using ravel().\n",
      "  y = column_or_1d(y, warn=True)\n",
      "C:\\Users\\sharm\\AppData\\Local\\Packages\\PythonSoftwareFoundation.Python.3.11_qbz5n2kfra8p0\\LocalCache\\local-packages\\Python311\\site-packages\\sklearn\\utils\\validation.py:1183: DataConversionWarning: A column-vector y was passed when a 1d array was expected. Please change the shape of y to (n_samples, ), for example using ravel().\n",
      "  y = column_or_1d(y, warn=True)\n",
      "C:\\Users\\sharm\\AppData\\Local\\Packages\\PythonSoftwareFoundation.Python.3.11_qbz5n2kfra8p0\\LocalCache\\local-packages\\Python311\\site-packages\\sklearn\\utils\\validation.py:1183: DataConversionWarning: A column-vector y was passed when a 1d array was expected. Please change the shape of y to (n_samples, ), for example using ravel().\n",
      "  y = column_or_1d(y, warn=True)\n",
      "C:\\Users\\sharm\\AppData\\Local\\Packages\\PythonSoftwareFoundation.Python.3.11_qbz5n2kfra8p0\\LocalCache\\local-packages\\Python311\\site-packages\\sklearn\\utils\\validation.py:1183: DataConversionWarning: A column-vector y was passed when a 1d array was expected. Please change the shape of y to (n_samples, ), for example using ravel().\n",
      "  y = column_or_1d(y, warn=True)\n",
      "C:\\Users\\sharm\\AppData\\Local\\Packages\\PythonSoftwareFoundation.Python.3.11_qbz5n2kfra8p0\\LocalCache\\local-packages\\Python311\\site-packages\\sklearn\\utils\\validation.py:1183: DataConversionWarning: A column-vector y was passed when a 1d array was expected. Please change the shape of y to (n_samples, ), for example using ravel().\n",
      "  y = column_or_1d(y, warn=True)\n"
     ]
    },
    {
     "name": "stdout",
     "output_type": "stream",
     "text": [
      "{}\n",
      "              precision    recall  f1-score   support\n",
      "\n",
      "         0.0       0.99      0.99      0.99     17016\n",
      "         1.0       0.88      0.89      0.89      1694\n",
      "\n",
      "    accuracy                           0.98     18710\n",
      "   macro avg       0.94      0.94      0.94     18710\n",
      "weighted avg       0.98      0.98      0.98     18710\n",
      "\n"
     ]
    }
   ],
   "source": [
    "from sklearn.model_selection import GridSearchCV\n",
    "from sklearn.metrics import f1_score, accuracy_score, recall_score, precision_score, classification_report\n",
    "\n",
    "grid = GridSearchCV(g_NB, g_NB_parameters, scoring='f1_macro', cv =5)\n",
    "\n",
    "# fitting the model for grid search\n",
    "grid.fit(X_train_smotu, y_train_smotu)\n",
    "\n",
    "# print best parameter after tuning\n",
    "print(grid.best_params_)\n",
    "grid_predictions = grid.predict(X_test_smotu)\n",
    "\n",
    "# print classification report\n",
    "print(classification_report(y_test_smotu, grid_predictions))"
   ]
  },
  {
   "cell_type": "markdown",
   "metadata": {},
   "source": [
    "# Feature Selection"
   ]
  },
  {
   "cell_type": "code",
   "execution_count": 34,
   "metadata": {},
   "outputs": [
    {
     "name": "stderr",
     "output_type": "stream",
     "text": [
      "C:\\Users\\sharm\\AppData\\Local\\Packages\\PythonSoftwareFoundation.Python.3.11_qbz5n2kfra8p0\\LocalCache\\local-packages\\Python311\\site-packages\\sklearn\\utils\\validation.py:1183: DataConversionWarning: A column-vector y was passed when a 1d array was expected. Please change the shape of y to (n_samples, ), for example using ravel().\n",
      "  y = column_or_1d(y, warn=True)\n"
     ]
    },
    {
     "name": "stdout",
     "output_type": "stream",
     "text": [
      "[0.10925001 0.1162004  0.17385205 0.20958557 0.21542547 0.11742366\n",
      " 0.15946778 0.17571248 0.10819005 0.15998037 0.23189295 0.22323856\n",
      " 0.2312661  0.01174203 0.25050956 0.01682305 0.18982667 0.21999999\n",
      " 0.14422164 0.05784564 0.06582582 0.13830833 0.01280036 0.04148292\n",
      " 0.03125758 0.04240343 0.05447078 0.12760939 0.10399311 0.09087175]\n",
      "\n"
     ]
    },
    {
     "data": {
      "text/plain": [
       "<Axes: >"
      ]
     },
     "execution_count": 34,
     "metadata": {},
     "output_type": "execute_result"
    },
    {
     "data": {
      "image/png": "[encoded data removed]",
      "text/plain": [
       "<Figure size 2000x800 with 1 Axes>"
      ]
     },
     "metadata": {},
     "output_type": "display_data"
    }
   ],
   "source": [
    "import pandas as pd\n",
    "from sklearn.feature_selection import mutual_info_classif\n",
    "m_smotu = mutual_info_classif(X_train_smotu, y_train_smotu)\n",
    "print(m_smotu)\n",
    "print()\n",
    "\n",
    "m_smotu = pd.Series(m_smotu)\n",
    "\n",
    "m_smotu.index = X_train_smotu.columns\n",
    "m_smotu.sort_values(ascending= False)\n",
    "m_smotu.sort_values(ascending= False).plot.bar(figsize=(20,8))\n"
   ]
  },
  {
   "cell_type": "markdown",
   "metadata": {},
   "source": [
    "# Selecting Kbest"
   ]
  },
  {
   "cell_type": "code",
   "execution_count": 35,
   "metadata": {},
   "outputs": [
    {
     "name": "stderr",
     "output_type": "stream",
     "text": [
      "C:\\Users\\sharm\\AppData\\Local\\Packages\\PythonSoftwareFoundation.Python.3.11_qbz5n2kfra8p0\\LocalCache\\local-packages\\Python311\\site-packages\\sklearn\\utils\\validation.py:1183: DataConversionWarning: A column-vector y was passed when a 1d array was expected. Please change the shape of y to (n_samples, ), for example using ravel().\n",
      "  y = column_or_1d(y, warn=True)\n"
     ]
    }
   ],
   "source": [
    "from sklearn.feature_selection import SelectKBest\n",
    "k_best = 26\n",
    "mi_selector = SelectKBest(mutual_info_classif, k = k_best)\n",
    "X_train_selected_smotu = mi_selector.fit_transform(X_train_smotu, y_train_smotu)\n",
    "X_test_selected_smotu = mi_selector.transform(X_test_smotu)\n"
   ]
  },
  {
   "cell_type": "code",
   "execution_count": 37,
   "metadata": {},
   "outputs": [
    {
     "name": "stderr",
     "output_type": "stream",
     "text": [
      "C:\\Users\\sharm\\AppData\\Local\\Packages\\PythonSoftwareFoundation.Python.3.11_qbz5n2kfra8p0\\LocalCache\\local-packages\\Python311\\site-packages\\sklearn\\utils\\validation.py:1183: DataConversionWarning: A column-vector y was passed when a 1d array was expected. Please change the shape of y to (n_samples, ), for example using ravel().\n",
      "  y = column_or_1d(y, warn=True)\n",
      "C:\\Users\\sharm\\AppData\\Local\\Packages\\PythonSoftwareFoundation.Python.3.11_qbz5n2kfra8p0\\LocalCache\\local-packages\\Python311\\site-packages\\sklearn\\utils\\validation.py:1183: DataConversionWarning: A column-vector y was passed when a 1d array was expected. Please change the shape of y to (n_samples, ), for example using ravel().\n",
      "  y = column_or_1d(y, warn=True)\n",
      "C:\\Users\\sharm\\AppData\\Local\\Packages\\PythonSoftwareFoundation.Python.3.11_qbz5n2kfra8p0\\LocalCache\\local-packages\\Python311\\site-packages\\sklearn\\utils\\validation.py:1183: DataConversionWarning: A column-vector y was passed when a 1d array was expected. Please change the shape of y to (n_samples, ), for example using ravel().\n",
      "  y = column_or_1d(y, warn=True)\n",
      "C:\\Users\\sharm\\AppData\\Local\\Packages\\PythonSoftwareFoundation.Python.3.11_qbz5n2kfra8p0\\LocalCache\\local-packages\\Python311\\site-packages\\sklearn\\utils\\validation.py:1183: DataConversionWarning: A column-vector y was passed when a 1d array was expected. Please change the shape of y to (n_samples, ), for example using ravel().\n",
      "  y = column_or_1d(y, warn=True)\n"
     ]
    },
    {
     "name": "stdout",
     "output_type": "stream",
     "text": [
      "{}\n",
      "              precision    recall  f1-score   support\n",
      "\n",
      "         0.0       0.99      0.99      0.99     17016\n",
      "         1.0       0.88      0.89      0.89      1694\n",
      "\n",
      "    accuracy                           0.98     18710\n",
      "   macro avg       0.94      0.94      0.94     18710\n",
      "weighted avg       0.98      0.98      0.98     18710\n",
      "\n"
     ]
    },
    {
     "name": "stderr",
     "output_type": "stream",
     "text": [
      "C:\\Users\\sharm\\AppData\\Local\\Packages\\PythonSoftwareFoundation.Python.3.11_qbz5n2kfra8p0\\LocalCache\\local-packages\\Python311\\site-packages\\sklearn\\utils\\validation.py:1183: DataConversionWarning: A column-vector y was passed when a 1d array was expected. Please change the shape of y to (n_samples, ), for example using ravel().\n",
      "  y = column_or_1d(y, warn=True)\n",
      "C:\\Users\\sharm\\AppData\\Local\\Packages\\PythonSoftwareFoundation.Python.3.11_qbz5n2kfra8p0\\LocalCache\\local-packages\\Python311\\site-packages\\sklearn\\utils\\validation.py:1183: DataConversionWarning: A column-vector y was passed when a 1d array was expected. Please change the shape of y to (n_samples, ), for example using ravel().\n",
      "  y = column_or_1d(y, warn=True)\n"
     ]
    }
   ],
   "source": [
    "from sklearn.model_selection import GridSearchCV\n",
    "from sklearn.metrics import f1_score, accuracy_score, recall_score, precision_score, classification_report\n",
    "\n",
    "grid = GridSearchCV(g_NB, g_NB_parameters, scoring='f1_macro', cv =5)\n",
    "\n",
    "# fitting the model for grid search\n",
    "grid.fit(X_train_selected_smotu, y_train_smotu)\n",
    "\n",
    "# print best parameter after tuning\n",
    "print(grid.best_params_)\n",
    "grid_predictions = grid.predict(X_test_selected_smotu)\n",
    "\n",
    "# print classification report\n",
    "print(classification_report(y_test_smotu, grid_predictions))"
   ]
  },
  {
   "cell_type": "markdown",
   "metadata": {},
   "source": [
    "# Feature Selection for Gaussian NB"
   ]
  },
  {
   "cell_type": "code",
   "execution_count": 39,
   "metadata": {},
   "outputs": [
    {
     "name": "stderr",
     "output_type": "stream",
     "text": [
      "C:\\Users\\sharm\\AppData\\Local\\Packages\\PythonSoftwareFoundation.Python.3.11_qbz5n2kfra8p0\\LocalCache\\local-packages\\Python311\\site-packages\\sklearn\\utils\\validation.py:1183: DataConversionWarning: A column-vector y was passed when a 1d array was expected. Please change the shape of y to (n_samples, ), for example using ravel().\n",
      "  y = column_or_1d(y, warn=True)\n"
     ]
    },
    {
     "data": {
      "text/plain": [
       "<Axes: >"
      ]
     },
     "execution_count": 39,
     "metadata": {},
     "output_type": "execute_result"
    },
    {
     "data": {
      "image/png": "[encoded data removed]",
      "text/plain": [
       "<Figure size 2000x800 with 1 Axes>"
      ]
     },
     "metadata": {},
     "output_type": "display_data"
    }
   ],
   "source": [
    "from sklearn.inspection import permutation_importance\n",
    "g_NB.fit(X_train_smotu, y_train_smotu)\n",
    "\n",
    "imps = permutation_importance(g_NB, X_test_smotu, y_test_smotu)\n",
    "absolute_importances_smotu = np.abs(imps.importances_mean)\n",
    "absolute_importances_smotu = pd.Series(imps.importances_mean, index = X_test_rs.columns)\n",
    "absolute_importances_smotu.sort_values(ascending = False).plot.bar(figsize = (20,8))"
   ]
  },
  {
   "cell_type": "markdown",
   "metadata": {},
   "source": [
    "# Selecting KBest for Gaussian NB"
   ]
  },
  {
   "cell_type": "code",
   "execution_count": 51,
   "metadata": {},
   "outputs": [
    {
     "name": "stdout",
     "output_type": "stream",
     "text": [
      "Index(['V17', 'V14', 'V3', 'V7', 'V12', 'V10', 'V16', 'V5', 'V1', 'V8', 'V18',\n",
      "       'V11', 'V2', 'Amount', 'V4', 'V23'],\n",
      "      dtype='object')\n"
     ]
    }
   ],
   "source": [
    "k = 16\n",
    "top_k_features = absolute_importances_smto.nlargest(k).index\n",
    "\n",
    "print(top_k_features)\n",
    "\n",
    "X_train_selected_smotu_1 = X_train_smotu[top_k_features]\n",
    "X_test_selected_smotu_1 = X_test_smotu[top_k_features]\n"
   ]
  },
  {
   "cell_type": "code",
   "execution_count": 52,
   "metadata": {},
   "outputs": [
    {
     "name": "stderr",
     "output_type": "stream",
     "text": [
      "C:\\Users\\sharm\\AppData\\Local\\Packages\\PythonSoftwareFoundation.Python.3.11_qbz5n2kfra8p0\\LocalCache\\local-packages\\Python311\\site-packages\\sklearn\\utils\\validation.py:1183: DataConversionWarning: A column-vector y was passed when a 1d array was expected. Please change the shape of y to (n_samples, ), for example using ravel().\n",
      "  y = column_or_1d(y, warn=True)\n",
      "C:\\Users\\sharm\\AppData\\Local\\Packages\\PythonSoftwareFoundation.Python.3.11_qbz5n2kfra8p0\\LocalCache\\local-packages\\Python311\\site-packages\\sklearn\\utils\\validation.py:1183: DataConversionWarning: A column-vector y was passed when a 1d array was expected. Please change the shape of y to (n_samples, ), for example using ravel().\n",
      "  y = column_or_1d(y, warn=True)\n",
      "C:\\Users\\sharm\\AppData\\Local\\Packages\\PythonSoftwareFoundation.Python.3.11_qbz5n2kfra8p0\\LocalCache\\local-packages\\Python311\\site-packages\\sklearn\\utils\\validation.py:1183: DataConversionWarning: A column-vector y was passed when a 1d array was expected. Please change the shape of y to (n_samples, ), for example using ravel().\n",
      "  y = column_or_1d(y, warn=True)\n",
      "C:\\Users\\sharm\\AppData\\Local\\Packages\\PythonSoftwareFoundation.Python.3.11_qbz5n2kfra8p0\\LocalCache\\local-packages\\Python311\\site-packages\\sklearn\\utils\\validation.py:1183: DataConversionWarning: A column-vector y was passed when a 1d array was expected. Please change the shape of y to (n_samples, ), for example using ravel().\n",
      "  y = column_or_1d(y, warn=True)\n",
      "C:\\Users\\sharm\\AppData\\Local\\Packages\\PythonSoftwareFoundation.Python.3.11_qbz5n2kfra8p0\\LocalCache\\local-packages\\Python311\\site-packages\\sklearn\\utils\\validation.py:1183: DataConversionWarning: A column-vector y was passed when a 1d array was expected. Please change the shape of y to (n_samples, ), for example using ravel().\n",
      "  y = column_or_1d(y, warn=True)\n",
      "C:\\Users\\sharm\\AppData\\Local\\Packages\\PythonSoftwareFoundation.Python.3.11_qbz5n2kfra8p0\\LocalCache\\local-packages\\Python311\\site-packages\\sklearn\\utils\\validation.py:1183: DataConversionWarning: A column-vector y was passed when a 1d array was expected. Please change the shape of y to (n_samples, ), for example using ravel().\n",
      "  y = column_or_1d(y, warn=True)\n",
      "C:\\Users\\sharm\\AppData\\Local\\Packages\\PythonSoftwareFoundation.Python.3.11_qbz5n2kfra8p0\\LocalCache\\local-packages\\Python311\\site-packages\\sklearn\\utils\\validation.py:1183: DataConversionWarning: A column-vector y was passed when a 1d array was expected. Please change the shape of y to (n_samples, ), for example using ravel().\n",
      "  y = column_or_1d(y, warn=True)\n",
      "C:\\Users\\sharm\\AppData\\Local\\Packages\\PythonSoftwareFoundation.Python.3.11_qbz5n2kfra8p0\\LocalCache\\local-packages\\Python311\\site-packages\\sklearn\\utils\\validation.py:1183: DataConversionWarning: A column-vector y was passed when a 1d array was expected. Please change the shape of y to (n_samples, ), for example using ravel().\n",
      "  y = column_or_1d(y, warn=True)\n",
      "C:\\Users\\sharm\\AppData\\Local\\Packages\\PythonSoftwareFoundation.Python.3.11_qbz5n2kfra8p0\\LocalCache\\local-packages\\Python311\\site-packages\\sklearn\\utils\\validation.py:1183: DataConversionWarning: A column-vector y was passed when a 1d array was expected. Please change the shape of y to (n_samples, ), for example using ravel().\n",
      "  y = column_or_1d(y, warn=True)\n",
      "C:\\Users\\sharm\\AppData\\Local\\Packages\\PythonSoftwareFoundation.Python.3.11_qbz5n2kfra8p0\\LocalCache\\local-packages\\Python311\\site-packages\\sklearn\\utils\\validation.py:1183: DataConversionWarning: A column-vector y was passed when a 1d array was expected. Please change the shape of y to (n_samples, ), for example using ravel().\n",
      "  y = column_or_1d(y, warn=True)\n",
      "C:\\Users\\sharm\\AppData\\Local\\Packages\\PythonSoftwareFoundation.Python.3.11_qbz5n2kfra8p0\\LocalCache\\local-packages\\Python311\\site-packages\\sklearn\\utils\\validation.py:1183: DataConversionWarning: A column-vector y was passed when a 1d array was expected. Please change the shape of y to (n_samples, ), for example using ravel().\n",
      "  y = column_or_1d(y, warn=True)\n"
     ]
    },
    {
     "name": "stdout",
     "output_type": "stream",
     "text": [
      "{}\n",
      "              precision    recall  f1-score   support\n",
      "\n",
      "         0.0       0.99      0.99      0.99     17016\n",
      "         1.0       0.87      0.90      0.88      1694\n",
      "\n",
      "    accuracy                           0.98     18710\n",
      "   macro avg       0.93      0.94      0.94     18710\n",
      "weighted avg       0.98      0.98      0.98     18710\n",
      "\n"
     ]
    }
   ],
   "source": [
    "from sklearn.model_selection import GridSearchCV\n",
    "from sklearn.metrics import f1_score, accuracy_score, recall_score, precision_score, classification_report\n",
    "\n",
    "grid = GridSearchCV(g_NB, g_NB_parameters, scoring='f1_macro', cv =10)\n",
    "\n",
    "# fitting the model for grid search\n",
    "grid.fit(X_train_selected_smotu_1, y_train_smotu)\n",
    "\n",
    "# print best parameter after tuning\n",
    "print(grid.best_params_)\n",
    "grid_predictions = grid.predict(X_test_selected_smotu_1)\n",
    "\n",
    "# print classification report\n",
    "print(classification_report(y_test_smotu, grid_predictions))"
   ]
  },
  {
   "cell_type": "code",
   "execution_count": null,
   "metadata": {},
   "outputs": [],
   "source": []
  }
 ],
 "metadata": {
  "kernelspec": {
   "display_name": "Python 3",
   "language": "python",
   "name": "python3"
  },
  "language_info": {
   "codemirror_mode": {
    "name": "ipython",
    "version": 3
   },
   "file_extension": ".py",
   "mimetype": "text/x-python",
   "name": "python",
   "nbconvert_exporter": "python",
   "pygments_lexer": "ipython3",
   "version": "3.11.6"
  }
 },
 "nbformat": 4,
 "nbformat_minor": 2
}
